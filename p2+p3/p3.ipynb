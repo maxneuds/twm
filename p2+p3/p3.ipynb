{
 "cells": [
  {
   "cell_type": "markdown",
   "metadata": {},
   "source": [
    "# Praktikum 3"
   ]
  },
  {
   "cell_type": "markdown",
   "metadata": {},
   "source": [
    "## Teil I"
   ]
  },
  {
   "cell_type": "markdown",
   "metadata": {},
   "source": [
    "### 1."
   ]
  },
  {
   "cell_type": "code",
   "execution_count": 2,
   "metadata": {},
   "outputs": [],
   "source": [
    "from hdbcli import dbapi\n",
    "import numpy as np\n",
    "import pandas as pd\n",
    "\n",
    "from wordcloud import WordCloud\n",
    "import matplotlib.pyplot as plt\n",
    "\n",
    "hana_ip = '63.35.189.226'\n",
    "connection = dbapi.connect(hana_ip, 39015, 'SYSTEM', 'Glorp2018!')\n",
    "cursor = connection.cursor()"
   ]
  },
  {
   "cell_type": "code",
   "execution_count": 2,
   "metadata": {},
   "outputs": [
    {
     "name": "stdout",
     "output_type": "stream",
     "text": [
      "Fire SQL statement:\n",
      "select top 100 \"adj\", \"noun\", count(*) as \"count\" from  (SELECT W1.TA_TOKEN as \"adj\", W2.TA_TOKEN as \"noun\", W2.TA_COUNTER - W1.TA_COUNTER as diff FROM \"SYSTEM\".\"$TA_WIKIINDEX\" W1 INNER JOIN \"SYSTEM\".\"$TA_WIKIINDEX\" W2  ON W1.ID = W2.ID AND W1.TA_COUNTER < W2.TA_COUNTER AND W1.TA_TYPE = 'adjective' AND W2.TA_TYPE = 'noun') where diff = 1 group by \"adj\", \"noun\" order by \"count\" desc\n",
      "\n"
     ]
    },
    {
     "data": {
      "text/html": [
       "<div>\n",
       "<style scoped>\n",
       "    .dataframe tbody tr th:only-of-type {\n",
       "        vertical-align: middle;\n",
       "    }\n",
       "\n",
       "    .dataframe tbody tr th {\n",
       "        vertical-align: top;\n",
       "    }\n",
       "\n",
       "    .dataframe thead th {\n",
       "        text-align: right;\n",
       "    }\n",
       "</style>\n",
       "<table border=\"1\" class=\"dataframe\">\n",
       "  <thead>\n",
       "    <tr style=\"text-align: right;\">\n",
       "      <th></th>\n",
       "      <th>adj</th>\n",
       "      <th>noun</th>\n",
       "      <th>count</th>\n",
       "    </tr>\n",
       "  </thead>\n",
       "  <tbody>\n",
       "    <tr>\n",
       "      <td>0</td>\n",
       "      <td>United</td>\n",
       "      <td>States</td>\n",
       "      <td>1400</td>\n",
       "    </tr>\n",
       "    <tr>\n",
       "      <td>1</td>\n",
       "      <td>video</td>\n",
       "      <td>game</td>\n",
       "      <td>775</td>\n",
       "    </tr>\n",
       "    <tr>\n",
       "      <td>2</td>\n",
       "      <td>United</td>\n",
       "      <td>Kingdom</td>\n",
       "      <td>598</td>\n",
       "    </tr>\n",
       "    <tr>\n",
       "      <td>3</td>\n",
       "      <td>Game</td>\n",
       "      <td>Boy</td>\n",
       "      <td>403</td>\n",
       "    </tr>\n",
       "    <tr>\n",
       "      <td>4</td>\n",
       "      <td>19th</td>\n",
       "      <td>century</td>\n",
       "      <td>320</td>\n",
       "    </tr>\n",
       "    <tr>\n",
       "      <td>5</td>\n",
       "      <td>video</td>\n",
       "      <td>games</td>\n",
       "      <td>314</td>\n",
       "    </tr>\n",
       "    <tr>\n",
       "      <td>6</td>\n",
       "      <td>extinct</td>\n",
       "      <td>genus</td>\n",
       "      <td>240</td>\n",
       "    </tr>\n",
       "    <tr>\n",
       "      <td>7</td>\n",
       "      <td>same</td>\n",
       "      <td>time</td>\n",
       "      <td>233</td>\n",
       "    </tr>\n",
       "    <tr>\n",
       "      <td>8</td>\n",
       "      <td>royal</td>\n",
       "      <td>family</td>\n",
       "      <td>231</td>\n",
       "    </tr>\n",
       "    <tr>\n",
       "      <td>9</td>\n",
       "      <td>Prime</td>\n",
       "      <td>Minister</td>\n",
       "      <td>231</td>\n",
       "    </tr>\n",
       "    <tr>\n",
       "      <td>10</td>\n",
       "      <td>first</td>\n",
       "      <td>time</td>\n",
       "      <td>226</td>\n",
       "    </tr>\n",
       "    <tr>\n",
       "      <td>11</td>\n",
       "      <td>American</td>\n",
       "      <td>Kennel</td>\n",
       "      <td>199</td>\n",
       "    </tr>\n",
       "    <tr>\n",
       "      <td>12</td>\n",
       "      <td>20th</td>\n",
       "      <td>century</td>\n",
       "      <td>178</td>\n",
       "    </tr>\n",
       "    <tr>\n",
       "      <td>13</td>\n",
       "      <td>dorsal</td>\n",
       "      <td>fin</td>\n",
       "      <td>175</td>\n",
       "    </tr>\n",
       "    <tr>\n",
       "      <td>14</td>\n",
       "      <td>bony</td>\n",
       "      <td>fish</td>\n",
       "      <td>166</td>\n",
       "    </tr>\n",
       "    <tr>\n",
       "      <td>15</td>\n",
       "      <td>cutthroat</td>\n",
       "      <td>trout</td>\n",
       "      <td>156</td>\n",
       "    </tr>\n",
       "    <tr>\n",
       "      <td>16</td>\n",
       "      <td>positive</td>\n",
       "      <td>reviews</td>\n",
       "      <td>155</td>\n",
       "    </tr>\n",
       "    <tr>\n",
       "      <td>17</td>\n",
       "      <td>eldest</td>\n",
       "      <td>son</td>\n",
       "      <td>155</td>\n",
       "    </tr>\n",
       "    <tr>\n",
       "      <td>18</td>\n",
       "      <td>game</td>\n",
       "      <td>features</td>\n",
       "      <td>154</td>\n",
       "    </tr>\n",
       "    <tr>\n",
       "      <td>19</td>\n",
       "      <td>other</td>\n",
       "      <td>dogs</td>\n",
       "      <td>153</td>\n",
       "    </tr>\n",
       "  </tbody>\n",
       "</table>\n",
       "</div>"
      ],
      "text/plain": [
       "          adj      noun  count\n",
       "0      United    States   1400\n",
       "1       video      game    775\n",
       "2      United   Kingdom    598\n",
       "3        Game       Boy    403\n",
       "4        19th   century    320\n",
       "5       video     games    314\n",
       "6     extinct     genus    240\n",
       "7        same      time    233\n",
       "8       royal    family    231\n",
       "9       Prime  Minister    231\n",
       "10      first      time    226\n",
       "11   American    Kennel    199\n",
       "12       20th   century    178\n",
       "13     dorsal       fin    175\n",
       "14       bony      fish    166\n",
       "15  cutthroat     trout    156\n",
       "16   positive   reviews    155\n",
       "17     eldest       son    155\n",
       "18       game  features    154\n",
       "19      other      dogs    153"
      ]
     },
     "execution_count": 2,
     "metadata": {},
     "output_type": "execute_result"
    }
   ],
   "source": [
    "sqll = [\n",
    "'select top 100 \"adj\", \"noun\", count(*) as \"count\" from ',\n",
    "'(SELECT W1.TA_TOKEN as \"adj\",',\n",
    "'W2.TA_TOKEN as \"noun\",',\n",
    "'W2.TA_COUNTER - W1.TA_COUNTER as diff',\n",
    "'FROM \"SYSTEM\".\"$TA_WIKIINDEX\" W1',\n",
    "'INNER JOIN \"SYSTEM\".\"$TA_WIKIINDEX\" W2 ',\n",
    "'ON W1.ID = W2.ID',\n",
    "'AND W1.TA_COUNTER < W2.TA_COUNTER',\n",
    "'AND W1.TA_TYPE = \\'adjective\\'',\n",
    "'AND W2.TA_TYPE = \\'noun\\')',\n",
    "'where diff = 1',\n",
    "'group by \"adj\", \"noun\"',\n",
    "'order by \"count\" desc'\n",
    "]\n",
    "sqls = ' '.join(sqll)\n",
    "print('Fire SQL statement:')\n",
    "print(sqls)\n",
    "print('')\n",
    "cursor.execute(sqls)\n",
    "df = pd.DataFrame(cursor, columns=['adj','noun','count'])\n",
    "df.head(20)"
   ]
  },
  {
   "cell_type": "code",
   "execution_count": 4,
   "metadata": {},
   "outputs": [
    {
     "name": "stdout",
     "output_type": "stream",
     "text": [
      "Fire SQL statement:\n",
      "select top 100 \"adj\", \"noun\", count(*) as \"count\" from (SELECT W1.TA_TOKEN as \"adj\",         W2.TA_TOKEN as \"noun\",         W2.TA_COUNTER - W1.TA_COUNTER as diff FROM \"SYSTEM\".\"$TA_CDESCRIND\" W1 INNER JOIN \"SYSTEM\".\"$TA_CDESCRIND\" W2   ON W1.CMPLID = W2.CMPLID   AND W1.TA_COUNTER < W2.TA_COUNTER   AND W1.TA_TYPE = 'adjective'   AND W2.TA_TYPE = 'noun') where diff = 1 group by \"adj\", \"noun\" order by \"count\" desc\n",
      "\n"
     ]
    },
    {
     "data": {
      "text/html": [
       "<div>\n",
       "<style scoped>\n",
       "    .dataframe tbody tr th:only-of-type {\n",
       "        vertical-align: middle;\n",
       "    }\n",
       "\n",
       "    .dataframe tbody tr th {\n",
       "        vertical-align: top;\n",
       "    }\n",
       "\n",
       "    .dataframe thead th {\n",
       "        text-align: right;\n",
       "    }\n",
       "</style>\n",
       "<table border=\"1\" class=\"dataframe\">\n",
       "  <thead>\n",
       "    <tr style=\"text-align: right;\">\n",
       "      <th></th>\n",
       "      <th>adj</th>\n",
       "      <th>noun</th>\n",
       "      <th>count</th>\n",
       "    </tr>\n",
       "  </thead>\n",
       "  <tbody>\n",
       "    <tr>\n",
       "      <th>0</th>\n",
       "      <td>REAR</td>\n",
       "      <td>TIRE</td>\n",
       "      <td>4569</td>\n",
       "    </tr>\n",
       "    <tr>\n",
       "      <th>1</th>\n",
       "      <td>STEERING</td>\n",
       "      <td>WHEEL</td>\n",
       "      <td>3154</td>\n",
       "    </tr>\n",
       "    <tr>\n",
       "      <th>2</th>\n",
       "      <td>FRONT</td>\n",
       "      <td>TIRE</td>\n",
       "      <td>2902</td>\n",
       "    </tr>\n",
       "    <tr>\n",
       "      <th>3</th>\n",
       "      <td>APPROXIMATE</td>\n",
       "      <td>FAILURE</td>\n",
       "      <td>2412</td>\n",
       "    </tr>\n",
       "    <tr>\n",
       "      <th>4</th>\n",
       "      <td>SIDE</td>\n",
       "      <td>TIRE</td>\n",
       "      <td>2353</td>\n",
       "    </tr>\n",
       "    <tr>\n",
       "      <th>5</th>\n",
       "      <td>SAME</td>\n",
       "      <td>PROBLEM</td>\n",
       "      <td>2144</td>\n",
       "    </tr>\n",
       "    <tr>\n",
       "      <th>6</th>\n",
       "      <td>ORIGINAL</td>\n",
       "      <td>EQUIPMENT</td>\n",
       "      <td>2121</td>\n",
       "    </tr>\n",
       "    <tr>\n",
       "      <th>7</th>\n",
       "      <td>FRONT</td>\n",
       "      <td>END</td>\n",
       "      <td>1962</td>\n",
       "    </tr>\n",
       "    <tr>\n",
       "      <th>8</th>\n",
       "      <td>SEVERAL</td>\n",
       "      <td>TIMES</td>\n",
       "      <td>1887</td>\n",
       "    </tr>\n",
       "    <tr>\n",
       "      <th>9</th>\n",
       "      <td>NEW</td>\n",
       "      <td>TIRES</td>\n",
       "      <td>1861</td>\n",
       "    </tr>\n",
       "    <tr>\n",
       "      <th>10</th>\n",
       "      <td>FRONT</td>\n",
       "      <td>PASSENGER</td>\n",
       "      <td>1753</td>\n",
       "    </tr>\n",
       "    <tr>\n",
       "      <th>11</th>\n",
       "      <td>FRONT</td>\n",
       "      <td>TIRES</td>\n",
       "      <td>1509</td>\n",
       "    </tr>\n",
       "    <tr>\n",
       "      <th>12</th>\n",
       "      <td>FIRST</td>\n",
       "      <td>TIME</td>\n",
       "      <td>1419</td>\n",
       "    </tr>\n",
       "    <tr>\n",
       "      <th>13</th>\n",
       "      <td>REAR</td>\n",
       "      <td>PASSENGER</td>\n",
       "      <td>1291</td>\n",
       "    </tr>\n",
       "    <tr>\n",
       "      <th>14</th>\n",
       "      <td>NEW</td>\n",
       "      <td>CAR</td>\n",
       "      <td>1249</td>\n",
       "    </tr>\n",
       "    <tr>\n",
       "      <th>15</th>\n",
       "      <td>PARKING</td>\n",
       "      <td>LOT</td>\n",
       "      <td>1230</td>\n",
       "    </tr>\n",
       "    <tr>\n",
       "      <th>16</th>\n",
       "      <td>SAME</td>\n",
       "      <td>ISSUE</td>\n",
       "      <td>1219</td>\n",
       "    </tr>\n",
       "    <tr>\n",
       "      <th>17</th>\n",
       "      <td>SAME</td>\n",
       "      <td>THING</td>\n",
       "      <td>1199</td>\n",
       "    </tr>\n",
       "    <tr>\n",
       "      <th>18</th>\n",
       "      <td>SECOND</td>\n",
       "      <td>TIME</td>\n",
       "      <td>1150</td>\n",
       "    </tr>\n",
       "    <tr>\n",
       "      <th>19</th>\n",
       "      <td>FURTHER</td>\n",
       "      <td>INFORMATION</td>\n",
       "      <td>1087</td>\n",
       "    </tr>\n",
       "  </tbody>\n",
       "</table>\n",
       "</div>"
      ],
      "text/plain": [
       "            adj         noun  count\n",
       "0          REAR         TIRE   4569\n",
       "1      STEERING        WHEEL   3154\n",
       "2         FRONT         TIRE   2902\n",
       "3   APPROXIMATE      FAILURE   2412\n",
       "4          SIDE         TIRE   2353\n",
       "5          SAME      PROBLEM   2144\n",
       "6      ORIGINAL    EQUIPMENT   2121\n",
       "7         FRONT          END   1962\n",
       "8       SEVERAL        TIMES   1887\n",
       "9           NEW        TIRES   1861\n",
       "10        FRONT    PASSENGER   1753\n",
       "11        FRONT        TIRES   1509\n",
       "12        FIRST         TIME   1419\n",
       "13         REAR    PASSENGER   1291\n",
       "14          NEW          CAR   1249\n",
       "15      PARKING          LOT   1230\n",
       "16         SAME        ISSUE   1219\n",
       "17         SAME        THING   1199\n",
       "18       SECOND         TIME   1150\n",
       "19      FURTHER  INFORMATION   1087"
      ]
     },
     "execution_count": 4,
     "metadata": {},
     "output_type": "execute_result"
    }
   ],
   "source": [
    "sqll = [\n",
    "'select top 100 \"adj\", \"noun\", count(*) as \"count\" from',\n",
    "'(SELECT W1.TA_TOKEN as \"adj\",',\n",
    "'        W2.TA_TOKEN as \"noun\",',\n",
    "'        W2.TA_COUNTER - W1.TA_COUNTER as diff',\n",
    "'FROM \"SYSTEM\".\"$TA_CDESCRIND\" W1',\n",
    "'INNER JOIN \"SYSTEM\".\"$TA_CDESCRIND\" W2',\n",
    "'  ON W1.CMPLID = W2.CMPLID',\n",
    "'  AND W1.TA_COUNTER < W2.TA_COUNTER',\n",
    "'  AND W1.TA_TYPE = \\'adjective\\'',\n",
    "'  AND W2.TA_TYPE = \\'noun\\')',\n",
    "'where diff = 1',\n",
    "'group by \"adj\", \"noun\"',\n",
    "'order by \"count\" desc',\n",
    "]\n",
    "sqls = ' '.join(sqll)\n",
    "print('Fire SQL statement:')\n",
    "print(sqls)\n",
    "print('')\n",
    "cursor.execute(sqls)\n",
    "df = pd.DataFrame(cursor, columns=['adj','noun','count'])\n",
    "df.head(20)"
   ]
  },
  {
   "cell_type": "markdown",
   "metadata": {},
   "source": [
    "### 4."
   ]
  },
  {
   "cell_type": "code",
   "execution_count": 20,
   "metadata": {},
   "outputs": [
    {
     "name": "stdout",
     "output_type": "stream",
     "text": [
      "Fire SQL statement:\n",
      "select concat(lower(\"adj\"), concat(' ', lower(\"noun\"))), count(*) as \"count\" from (SELECT W1.CMPLID as \"id\",         W1.TA_TOKEN as \"adj\",         W2.TA_TOKEN as \"noun\",         W2.TA_COUNTER - W1.TA_COUNTER as diff FROM \"SYSTEM\".\"$TA_CDESCRIND\" W1 INNER JOIN \"SYSTEM\".\"$TA_CDESCRIND\" W2   ON W1.CMPLID = W2.CMPLID   AND W1.TA_COUNTER < W2.TA_COUNTER   AND W1.TA_TYPE = 'adjective'   AND W2.TA_TYPE = 'noun') where diff = 1 and \"id\" < 1000000 and \"noun\" = 'TIRE' group by \"adj\", \"noun\" order by \"count\" desc\n",
      "\n"
     ]
    },
    {
     "data": {
      "text/html": [
       "<div>\n",
       "<style scoped>\n",
       "    .dataframe tbody tr th:only-of-type {\n",
       "        vertical-align: middle;\n",
       "    }\n",
       "\n",
       "    .dataframe tbody tr th {\n",
       "        vertical-align: top;\n",
       "    }\n",
       "\n",
       "    .dataframe thead th {\n",
       "        text-align: right;\n",
       "    }\n",
       "</style>\n",
       "<table border=\"1\" class=\"dataframe\">\n",
       "  <thead>\n",
       "    <tr style=\"text-align: right;\">\n",
       "      <th></th>\n",
       "      <th>bigram</th>\n",
       "      <th>count</th>\n",
       "    </tr>\n",
       "  </thead>\n",
       "  <tbody>\n",
       "    <tr>\n",
       "      <th>0</th>\n",
       "      <td>rear tire</td>\n",
       "      <td>4206</td>\n",
       "    </tr>\n",
       "    <tr>\n",
       "      <th>1</th>\n",
       "      <td>front tire</td>\n",
       "      <td>2591</td>\n",
       "    </tr>\n",
       "    <tr>\n",
       "      <th>2</th>\n",
       "      <td>side tire</td>\n",
       "      <td>1673</td>\n",
       "    </tr>\n",
       "    <tr>\n",
       "      <th>3</th>\n",
       "      <td>spare tire</td>\n",
       "      <td>828</td>\n",
       "    </tr>\n",
       "    <tr>\n",
       "      <th>4</th>\n",
       "      <td>new tire</td>\n",
       "      <td>608</td>\n",
       "    </tr>\n",
       "    <tr>\n",
       "      <th>5</th>\n",
       "      <td>flat tire</td>\n",
       "      <td>481</td>\n",
       "    </tr>\n",
       "    <tr>\n",
       "      <th>6</th>\n",
       "      <td>right tire</td>\n",
       "      <td>475</td>\n",
       "    </tr>\n",
       "    <tr>\n",
       "      <th>7</th>\n",
       "      <td>left tire</td>\n",
       "      <td>427</td>\n",
       "    </tr>\n",
       "    <tr>\n",
       "      <th>8</th>\n",
       "      <td>second tire</td>\n",
       "      <td>410</td>\n",
       "    </tr>\n",
       "    <tr>\n",
       "      <th>9</th>\n",
       "      <td>first tire</td>\n",
       "      <td>327</td>\n",
       "    </tr>\n",
       "    <tr>\n",
       "      <th>10</th>\n",
       "      <td>defective tire</td>\n",
       "      <td>309</td>\n",
       "    </tr>\n",
       "    <tr>\n",
       "      <th>11</th>\n",
       "      <td>original tire</td>\n",
       "      <td>259</td>\n",
       "    </tr>\n",
       "    <tr>\n",
       "      <th>12</th>\n",
       "      <td>other tire</td>\n",
       "      <td>218</td>\n",
       "    </tr>\n",
       "    <tr>\n",
       "      <th>13</th>\n",
       "      <td>same tire</td>\n",
       "      <td>191</td>\n",
       "    </tr>\n",
       "    <tr>\n",
       "      <th>14</th>\n",
       "      <td>general tire</td>\n",
       "      <td>188</td>\n",
       "    </tr>\n",
       "    <tr>\n",
       "      <th>15</th>\n",
       "      <td>failed tire</td>\n",
       "      <td>184</td>\n",
       "    </tr>\n",
       "    <tr>\n",
       "      <th>16</th>\n",
       "      <td>third tire</td>\n",
       "      <td>149</td>\n",
       "    </tr>\n",
       "    <tr>\n",
       "      <th>17</th>\n",
       "      <td>continental tire</td>\n",
       "      <td>147</td>\n",
       "    </tr>\n",
       "    <tr>\n",
       "      <th>18</th>\n",
       "      <td>inside tire</td>\n",
       "      <td>134</td>\n",
       "    </tr>\n",
       "    <tr>\n",
       "      <th>19</th>\n",
       "      <td>damaged tire</td>\n",
       "      <td>133</td>\n",
       "    </tr>\n",
       "  </tbody>\n",
       "</table>\n",
       "</div>"
      ],
      "text/plain": [
       "              bigram  count\n",
       "0          rear tire   4206\n",
       "1         front tire   2591\n",
       "2          side tire   1673\n",
       "3         spare tire    828\n",
       "4           new tire    608\n",
       "5          flat tire    481\n",
       "6         right tire    475\n",
       "7          left tire    427\n",
       "8        second tire    410\n",
       "9         first tire    327\n",
       "10    defective tire    309\n",
       "11     original tire    259\n",
       "12        other tire    218\n",
       "13         same tire    191\n",
       "14      general tire    188\n",
       "15       failed tire    184\n",
       "16        third tire    149\n",
       "17  continental tire    147\n",
       "18       inside tire    134\n",
       "19      damaged tire    133"
      ]
     },
     "execution_count": 20,
     "metadata": {},
     "output_type": "execute_result"
    }
   ],
   "source": [
    "sqll = [\n",
    "'select concat(lower(\"adj\"), concat(\\' \\', lower(\"noun\"))), count(*) as \"count\" from',\n",
    "'(SELECT W1.CMPLID as \"id\",',\n",
    "'        W1.TA_TOKEN as \"adj\",',\n",
    "'        W2.TA_TOKEN as \"noun\",',\n",
    "'        W2.TA_COUNTER - W1.TA_COUNTER as diff',\n",
    "'FROM \"SYSTEM\".\"$TA_CDESCRIND\" W1',\n",
    "'INNER JOIN \"SYSTEM\".\"$TA_CDESCRIND\" W2',\n",
    "'  ON W1.CMPLID = W2.CMPLID',\n",
    "'  AND W1.TA_COUNTER < W2.TA_COUNTER',\n",
    "'  AND W1.TA_TYPE = \\'adjective\\'',\n",
    "'  AND W2.TA_TYPE = \\'noun\\')',\n",
    "'where diff = 1',\n",
    "'and \"id\" < 1000000',\n",
    "'and \"noun\" = \\'TIRE\\'',\n",
    "'group by \"adj\", \"noun\"',\n",
    "'order by \"count\" desc',\n",
    "]\n",
    "sqls = ' '.join(sqll)\n",
    "print('Fire SQL statement:')\n",
    "print(sqls)\n",
    "print('')\n",
    "cursor.execute(sqls)\n",
    "df = pd.DataFrame(cursor, columns=['bigram','count'])\n",
    "df.head(20)"
   ]
  },
  {
   "cell_type": "code",
   "execution_count": 24,
   "metadata": {},
   "outputs": [
    {
     "name": "stdout",
     "output_type": "stream",
     "text": [
      "(577, 2)\n"
     ]
    }
   ],
   "source": [
    "print(df.shape)"
   ]
  },
  {
   "cell_type": "markdown",
   "metadata": {},
   "source": [
    "Das bedeutet, dass wir 577 features haben.\n",
    "Als nächtes bauen wir ein Wörtbuch auf."
   ]
  },
  {
   "cell_type": "code",
   "execution_count": 29,
   "metadata": {},
   "outputs": [],
   "source": [
    "from gensim import corpora\n",
    "bigram_words = df['bigram'].values.flatten().tolist()\n",
    "bigram_dic = corpora.Dictionary([bigram_words])"
   ]
  },
  {
   "cell_type": "code",
   "execution_count": 38,
   "metadata": {},
   "outputs": [
    {
     "name": "stdout",
     "output_type": "stream",
     "text": [
      "Fire SQL statement:\n",
      "select lower(CDESCR) from CMPL100K where CMPLID < 1000000\n",
      "\n"
     ]
    },
    {
     "data": {
      "text/html": [
       "<div>\n",
       "<style scoped>\n",
       "    .dataframe tbody tr th:only-of-type {\n",
       "        vertical-align: middle;\n",
       "    }\n",
       "\n",
       "    .dataframe tbody tr th {\n",
       "        vertical-align: top;\n",
       "    }\n",
       "\n",
       "    .dataframe thead th {\n",
       "        text-align: right;\n",
       "    }\n",
       "</style>\n",
       "<table border=\"1\" class=\"dataframe\">\n",
       "  <thead>\n",
       "    <tr style=\"text-align: right;\">\n",
       "      <th></th>\n",
       "      <th>cdescr</th>\n",
       "    </tr>\n",
       "  </thead>\n",
       "  <tbody>\n",
       "    <tr>\n",
       "      <th>0</th>\n",
       "      <td>wants listing of dealers who install air bag o...</td>\n",
       "    </tr>\n",
       "    <tr>\n",
       "      <th>1</th>\n",
       "      <td>recalls 95e-024000 and 984-003000, evenflo on ...</td>\n",
       "    </tr>\n",
       "    <tr>\n",
       "      <th>2</th>\n",
       "      <td>evenflo models 207 and 492, dom 12/15/95; the ...</td>\n",
       "    </tr>\n",
       "    <tr>\n",
       "      <th>3</th>\n",
       "      <td>abs brakes failed in rainy weather, resulting ...</td>\n",
       "    </tr>\n",
       "    <tr>\n",
       "      <th>4</th>\n",
       "      <td>wants to disarm the passenger's side air bag s...</td>\n",
       "    </tr>\n",
       "  </tbody>\n",
       "</table>\n",
       "</div>"
      ],
      "text/plain": [
       "                                              cdescr\n",
       "0  wants listing of dealers who install air bag o...\n",
       "1  recalls 95e-024000 and 984-003000, evenflo on ...\n",
       "2  evenflo models 207 and 492, dom 12/15/95; the ...\n",
       "3  abs brakes failed in rainy weather, resulting ...\n",
       "4  wants to disarm the passenger's side air bag s..."
      ]
     },
     "execution_count": 38,
     "metadata": {},
     "output_type": "execute_result"
    }
   ],
   "source": [
    "sqll = [\n",
    "'select lower(CDESCR) from CMPL100K',\n",
    "'where CMPLID < 1000000'\n",
    "]\n",
    "sqls = ' '.join(sqll)\n",
    "print('Fire SQL statement:')\n",
    "print(sqls)\n",
    "print('')\n",
    "cursor.execute(sqls)\n",
    "df_cdescr = pd.DataFrame(cursor, columns=['cdescr'])\n",
    "df_cdescr.head()"
   ]
  },
  {
   "cell_type": "code",
   "execution_count": 59,
   "metadata": {},
   "outputs": [
    {
     "name": "stdout",
     "output_type": "stream",
     "text": [
      "[[0 0 0 ... 0 0 0]\n",
      " [0 0 0 ... 0 0 0]\n",
      " [0 0 0 ... 0 0 0]\n",
      " ...\n",
      " [0 0 0 ... 0 0 0]\n",
      " [0 0 0 ... 0 0 0]\n",
      " [0 0 0 ... 0 0 0]]\n"
     ]
    }
   ],
   "source": [
    "import numpy as np\n",
    "from scipy.sparse import dok_matrix\n",
    "\n",
    "text_corpus = df_cdescr['cdescr'].values\n",
    "bigrams = []\n",
    "for document in text_corpus:\n",
    "    bigs = []\n",
    "    words = [word for word in document.lower().split()]\n",
    "    for idx, _ in enumerate(words[:-1]):\n",
    "        bigs.append(words[idx]+' '+words[idx+1])\n",
    "    bigrams.append(bigs)\n",
    "bow_corpus = [bigram_dic.doc2bow(bigram) for bigram in bigrams]\n",
    "\n",
    "# now we have bow with sparse vectors but we need dense\n",
    "\n",
    "shape = (len(bow_corpus), len(bigram_dic))\n",
    "bow_mat = np.zeros(shape, dtype=int)\n",
    "for idx, vec in enumerate(bow_corpus):\n",
    "    for pos, v in vec:\n",
    "        bow_mat[idx][pos] = v\n",
    "print(bow_mat)"
   ]
  },
  {
   "cell_type": "markdown",
   "metadata": {},
   "source": [
    "Das mit den Kategorien ist mir ein Rätsel.\n",
    "Neuer Plan: Alle Bigramme extrahieren und als Class Label 1 für 'Tire' und 0 für 'nicht Tire' vergeben."
   ]
  },
  {
   "cell_type": "code",
   "execution_count": 111,
   "metadata": {},
   "outputs": [
    {
     "name": "stdout",
     "output_type": "stream",
     "text": [
      "Fire SQL statement:\n",
      "select lower(\"adj\"), lower(\"noun\") as \"tire\" from (SELECT W1.CMPLID as \"id\",         W1.TA_TOKEN as \"adj\",         W2.TA_TOKEN as \"noun\",         W2.TA_COUNTER - W1.TA_COUNTER as diff FROM \"SYSTEM\".\"$TA_CDESCRIND\" W1 INNER JOIN \"SYSTEM\".\"$TA_CDESCRIND\" W2   ON W1.CMPLID = W2.CMPLID   AND W1.TA_COUNTER < W2.TA_COUNTER   AND W1.TA_TYPE = 'adjective'   AND W2.TA_TYPE = 'noun') where diff = 1 and \"id\" < 1000000\n",
      "\n"
     ]
    },
    {
     "data": {
      "text/html": [
       "<div>\n",
       "<style scoped>\n",
       "    .dataframe tbody tr th:only-of-type {\n",
       "        vertical-align: middle;\n",
       "    }\n",
       "\n",
       "    .dataframe tbody tr th {\n",
       "        vertical-align: top;\n",
       "    }\n",
       "\n",
       "    .dataframe thead th {\n",
       "        text-align: right;\n",
       "    }\n",
       "</style>\n",
       "<table border=\"1\" class=\"dataframe\">\n",
       "  <thead>\n",
       "    <tr style=\"text-align: right;\">\n",
       "      <th></th>\n",
       "      <th>adj</th>\n",
       "      <th>tire</th>\n",
       "    </tr>\n",
       "  </thead>\n",
       "  <tbody>\n",
       "    <tr>\n",
       "      <th>0</th>\n",
       "      <td>bent</td>\n",
       "      <td>0</td>\n",
       "    </tr>\n",
       "    <tr>\n",
       "      <th>1</th>\n",
       "      <td>new</td>\n",
       "      <td>0</td>\n",
       "    </tr>\n",
       "    <tr>\n",
       "      <th>2</th>\n",
       "      <td>multiple</td>\n",
       "      <td>0</td>\n",
       "    </tr>\n",
       "    <tr>\n",
       "      <th>3</th>\n",
       "      <td>multiple</td>\n",
       "      <td>0</td>\n",
       "    </tr>\n",
       "    <tr>\n",
       "      <th>4</th>\n",
       "      <td>steel</td>\n",
       "      <td>0</td>\n",
       "    </tr>\n",
       "    <tr>\n",
       "      <th>5</th>\n",
       "      <td>bent</td>\n",
       "      <td>0</td>\n",
       "    </tr>\n",
       "    <tr>\n",
       "      <th>6</th>\n",
       "      <td>spare</td>\n",
       "      <td>0</td>\n",
       "    </tr>\n",
       "    <tr>\n",
       "      <th>7</th>\n",
       "      <td>ago</td>\n",
       "      <td>0</td>\n",
       "    </tr>\n",
       "    <tr>\n",
       "      <th>8</th>\n",
       "      <td>bent</td>\n",
       "      <td>0</td>\n",
       "    </tr>\n",
       "    <tr>\n",
       "      <th>9</th>\n",
       "      <td>front</td>\n",
       "      <td>0</td>\n",
       "    </tr>\n",
       "    <tr>\n",
       "      <th>10</th>\n",
       "      <td>side</td>\n",
       "      <td>0</td>\n",
       "    </tr>\n",
       "    <tr>\n",
       "      <th>11</th>\n",
       "      <td>standard</td>\n",
       "      <td>0</td>\n",
       "    </tr>\n",
       "    <tr>\n",
       "      <th>12</th>\n",
       "      <td>side</td>\n",
       "      <td>0</td>\n",
       "    </tr>\n",
       "    <tr>\n",
       "      <th>13</th>\n",
       "      <td>first</td>\n",
       "      <td>0</td>\n",
       "    </tr>\n",
       "    <tr>\n",
       "      <th>14</th>\n",
       "      <td>new</td>\n",
       "      <td>0</td>\n",
       "    </tr>\n",
       "    <tr>\n",
       "      <th>15</th>\n",
       "      <td>second</td>\n",
       "      <td>0</td>\n",
       "    </tr>\n",
       "    <tr>\n",
       "      <th>16</th>\n",
       "      <td>acura</td>\n",
       "      <td>0</td>\n",
       "    </tr>\n",
       "    <tr>\n",
       "      <th>17</th>\n",
       "      <td>dented</td>\n",
       "      <td>0</td>\n",
       "    </tr>\n",
       "    <tr>\n",
       "      <th>18</th>\n",
       "      <td>bent</td>\n",
       "      <td>0</td>\n",
       "    </tr>\n",
       "    <tr>\n",
       "      <th>19</th>\n",
       "      <td>right</td>\n",
       "      <td>0</td>\n",
       "    </tr>\n",
       "  </tbody>\n",
       "</table>\n",
       "</div>"
      ],
      "text/plain": [
       "         adj  tire\n",
       "0       bent     0\n",
       "1        new     0\n",
       "2   multiple     0\n",
       "3   multiple     0\n",
       "4      steel     0\n",
       "5       bent     0\n",
       "6      spare     0\n",
       "7        ago     0\n",
       "8       bent     0\n",
       "9      front     0\n",
       "10      side     0\n",
       "11  standard     0\n",
       "12      side     0\n",
       "13     first     0\n",
       "14       new     0\n",
       "15    second     0\n",
       "16     acura     0\n",
       "17    dented     0\n",
       "18      bent     0\n",
       "19     right     0"
      ]
     },
     "execution_count": 111,
     "metadata": {},
     "output_type": "execute_result"
    }
   ],
   "source": [
    "sqll = [\n",
    "'select lower(\"adj\"), lower(\"noun\") as \"tire\" from',\n",
    "'(SELECT W1.CMPLID as \"id\",',\n",
    "'        W1.TA_TOKEN as \"adj\",',\n",
    "'        W2.TA_TOKEN as \"noun\",',\n",
    "'        W2.TA_COUNTER - W1.TA_COUNTER as diff',\n",
    "'FROM \"SYSTEM\".\"$TA_CDESCRIND\" W1',\n",
    "'INNER JOIN \"SYSTEM\".\"$TA_CDESCRIND\" W2',\n",
    "'  ON W1.CMPLID = W2.CMPLID',\n",
    "'  AND W1.TA_COUNTER < W2.TA_COUNTER',\n",
    "'  AND W1.TA_TYPE = \\'adjective\\'',\n",
    "'  AND W2.TA_TYPE = \\'noun\\')',\n",
    "'where diff = 1',\n",
    "'and \"id\" < 1000000',\n",
    "]\n",
    "sqls = ' '.join(sqll)\n",
    "print('Fire SQL statement:')\n",
    "print(sqls)\n",
    "print('')\n",
    "cursor.execute(sqls)\n",
    "df = pd.DataFrame(cursor, columns=['adj','tire'])\n",
    "df['tire'] = (df['tire'] == 'tire').astype(int)\n",
    "df.head(20)"
   ]
  },
  {
   "cell_type": "code",
   "execution_count": 112,
   "metadata": {},
   "outputs": [
    {
     "name": "stdout",
     "output_type": "stream",
     "text": [
      "[0 0 0 ... 0 0 0]\n",
      "['bent' 'new' 'multiple' ... 'rear' 'various' 'rear']\n"
     ]
    }
   ],
   "source": [
    "y = df['tire'].values\n",
    "print(y)\n",
    "X = df['adj'].values\n",
    "print(X)"
   ]
  },
  {
   "cell_type": "code",
   "execution_count": 113,
   "metadata": {},
   "outputs": [
    {
     "data": {
      "text/plain": [
       "62404        original\n",
       "62406       defective\n",
       "62408    catastrophic\n",
       "62413          failed\n",
       "62418    catastrophic\n",
       "Name: adj, dtype: object"
      ]
     },
     "execution_count": 113,
     "metadata": {},
     "output_type": "execute_result"
    }
   ],
   "source": [
    "df[df['tire'] == 1]['adj'].head()"
   ]
  },
  {
   "cell_type": "code",
   "execution_count": 114,
   "metadata": {},
   "outputs": [
    {
     "name": "stdout",
     "output_type": "stream",
     "text": [
      "[[0]\n",
      " [0]\n",
      " [0]\n",
      " ...\n",
      " [0]\n",
      " [0]\n",
      " [0]]\n",
      "\n",
      "[[0 0 0 ... 0 0 0]]\n"
     ]
    }
   ],
   "source": [
    "from sklearn.preprocessing import LabelBinarizer\n",
    "from sklearn.feature_selection import chi2, SelectKBest\n",
    "from sklearn.feature_extraction.text import CountVectorizer\n",
    "\n",
    "vect = CountVectorizer()\n",
    "X_dtm = vect.fit_transform(X)\n",
    "X_dtm = X_dtm.toarray()\n",
    "\n",
    "#pd.DataFrame(X_dtm, columns = vect.get_feature_names())\n",
    "\n",
    "# binarize the output column,\n",
    "# this makes computing the observed value a \n",
    "# simple dot product\n",
    "y_binarized = LabelBinarizer().fit_transform(y)\n",
    "print(y_binarized)\n",
    "print()\n",
    "\n",
    "# our observed count for each class (the row)\n",
    "# and each feature (the column)\n",
    "observed = np.dot(y_binarized.T, X_dtm)\n",
    "print(observed)"
   ]
  },
  {
   "cell_type": "code",
   "execution_count": 115,
   "metadata": {},
   "outputs": [
    {
     "data": {
      "text/plain": [
       "(array([0.12045791, 0.12045791, 0.36137372, ..., 0.12045791, 0.24091581,\n",
       "        0.12045791]),\n",
       " array([0.72853838, 0.72853838, 0.5477443 , ..., 0.72853838, 0.62354545,\n",
       "        0.72853838]))"
      ]
     },
     "execution_count": 115,
     "metadata": {},
     "output_type": "execute_result"
    }
   ],
   "source": [
    "chi2score = chi2(X_dtm, y)\n",
    "chi2score"
   ]
  },
  {
   "cell_type": "code",
   "execution_count": 116,
   "metadata": {},
   "outputs": [
    {
     "data": {
      "text/plain": [
       "array([[0, 0, 0],\n",
       "       [0, 0, 0],\n",
       "       [0, 0, 0],\n",
       "       ...,\n",
       "       [1, 0, 0],\n",
       "       [0, 0, 0],\n",
       "       [1, 0, 0]], dtype=int64)"
      ]
     },
     "execution_count": 116,
     "metadata": {},
     "output_type": "execute_result"
    }
   ],
   "source": [
    "kbest = SelectKBest(score_func = chi2, k = 3)\n",
    "X_dtm_kbest = kbest.fit_transform(X_dtm, y)\n",
    "X_dtm_kbest"
   ]
  },
  {
   "cell_type": "code",
   "execution_count": 120,
   "metadata": {},
   "outputs": [
    {
     "data": {
      "text/plain": [
       "array([2651, 3049, 3172], dtype=int64)"
      ]
     },
     "execution_count": 120,
     "metadata": {},
     "output_type": "execute_result"
    }
   ],
   "source": [
    "kbest.get_support(indices = True)"
   ]
  },
  {
   "cell_type": "code",
   "execution_count": 118,
   "metadata": {},
   "outputs": [
    {
     "data": {
      "text/html": [
       "<div>\n",
       "<style scoped>\n",
       "    .dataframe tbody tr th:only-of-type {\n",
       "        vertical-align: middle;\n",
       "    }\n",
       "\n",
       "    .dataframe tbody tr th {\n",
       "        vertical-align: top;\n",
       "    }\n",
       "\n",
       "    .dataframe thead th {\n",
       "        text-align: right;\n",
       "    }\n",
       "</style>\n",
       "<table border=\"1\" class=\"dataframe\">\n",
       "  <thead>\n",
       "    <tr style=\"text-align: right;\">\n",
       "      <th></th>\n",
       "      <th>adj</th>\n",
       "    </tr>\n",
       "  </thead>\n",
       "  <tbody>\n",
       "    <tr>\n",
       "      <th>2651</th>\n",
       "      <td>rear</td>\n",
       "    </tr>\n",
       "    <tr>\n",
       "      <th>3049</th>\n",
       "      <td>side</td>\n",
       "    </tr>\n",
       "    <tr>\n",
       "      <th>3172</th>\n",
       "      <td>spare</td>\n",
       "    </tr>\n",
       "  </tbody>\n",
       "</table>\n",
       "</div>"
      ],
      "text/plain": [
       "        adj\n",
       "2651   rear\n",
       "3049   side\n",
       "3172  spare"
      ]
     },
     "execution_count": 118,
     "metadata": {},
     "output_type": "execute_result"
    }
   ],
   "source": [
    "df_features = pd.DataFrame(vect.get_feature_names(), columns=['adj'])\n",
    "df_features.loc[[2651, 3049, 3172]]"
   ]
  },
  {
   "cell_type": "code",
   "execution_count": 126,
   "metadata": {},
   "outputs": [
    {
     "name": "stdout",
     "output_type": "stream",
     "text": [
      "10183.784126075583\n",
      "4536.679217043906\n",
      "6271.191995126413\n"
     ]
    }
   ],
   "source": [
    "print(chi2score[0][2651])\n",
    "print(chi2score[0][3049])\n",
    "print(chi2score[0][3172])"
   ]
  },
  {
   "cell_type": "markdown",
   "metadata": {},
   "source": [
    "### 5."
   ]
  },
  {
   "cell_type": "markdown",
   "metadata": {},
   "source": [
    "Wir bereiten die Anfragevektoren in numerischer form vor."
   ]
  },
  {
   "cell_type": "code",
   "execution_count": 3,
   "metadata": {},
   "outputs": [],
   "source": [
    "sqll = [\n",
    "    'select lower(TA_TOKEN) from',\n",
    "    '(select TA_TOKEN, count(*) as \"count\"',\n",
    "    'from \"SYSTEM\".\"$TA_WIKIINDEX\"',\n",
    "    'where TA_TYPE = \\'noun\\'',\n",
    "    'group by TA_TOKEN order by count(*) desc)',\n",
    "    'where \"count\" > 3',\n",
    "]\n",
    "sqls = ' '.join(sqll)\n",
    "cursor.execute(sqls)\n",
    "df = pd.DataFrame(cursor, columns=['noun'])\n",
    "wiki_words = df.values.flatten().tolist()\n",
    "sqll = [\n",
    "    'select lower(TA_TOKEN) from',\n",
    "    '(select TA_TOKEN, count(*) as \"count\"',\n",
    "    'from \"SYSTEM\".\"$TA_CDESCRIND\"',\n",
    "    'where TA_TYPE = \\'noun\\'',\n",
    "    'group by TA_TOKEN order by count(*) desc)',\n",
    "    'where \"count\" > 3',\n",
    "]\n",
    "sqls = ' '.join(sqll)\n",
    "cursor.execute(sqls)\n",
    "df = pd.DataFrame(cursor, columns=['noun'])\n",
    "cmpl_words = df.values.flatten().tolist()"
   ]
  },
  {
   "cell_type": "code",
   "execution_count": 4,
   "metadata": {},
   "outputs": [
    {
     "name": "stdout",
     "output_type": "stream",
     "text": [
      "['game', 'dog', 'dogs', 'breed', 'time']\n",
      "['vehicle', 'car', 'tire', 'tires', 'contact']\n"
     ]
    }
   ],
   "source": [
    "print(wiki_words[:5])\n",
    "print(cmpl_words[:5])"
   ]
  },
  {
   "cell_type": "markdown",
   "metadata": {},
   "source": [
    "Dann nutzen wir gensim, um Wortvektoren zu erstellen."
   ]
  },
  {
   "cell_type": "code",
   "execution_count": 5,
   "metadata": {},
   "outputs": [],
   "source": [
    "from gensim import corpora\n",
    "wiki_dic = corpora.Dictionary([wiki_words])\n",
    "cmpl_dic = corpora.Dictionary([cmpl_words])"
   ]
  },
  {
   "cell_type": "code",
   "execution_count": 6,
   "metadata": {},
   "outputs": [
    {
     "name": "stdout",
     "output_type": "stream",
     "text": [
      "Dictionary(13241 unique tokens: [\"'em\", '0', '000', '001', '00am']...)\n",
      "Dictionary(9388 unique tokens: ['%', '%2flotsearchresults%2f%3ffree%3dtrue', '%5fencoding', \"'t\", '0']...)\n"
     ]
    }
   ],
   "source": [
    "print(wiki_dic)\n",
    "print(cmpl_dic)\n",
    "size_cmpl = len(cmpl_dic)\n",
    "size_wiki = len(wiki_dic)"
   ]
  },
  {
   "cell_type": "markdown",
   "metadata": {},
   "source": [
    "Jetzt können wir Anfragevektoren auf Basis der dics erstellen."
   ]
  },
  {
   "cell_type": "code",
   "execution_count": 7,
   "metadata": {},
   "outputs": [
    {
     "name": "stdout",
     "output_type": "stream",
     "text": [
      "[(516, 1), (1954, 1), (3663, 1)]\n"
     ]
    }
   ],
   "source": [
    "s_test = \"about cats and dogs\"\n",
    "s_prep = s_test.lower().split()\n",
    "vec_test = wiki_dic.doc2bow(s_prep)\n",
    "print(vec_test)"
   ]
  },
  {
   "cell_type": "code",
   "execution_count": 8,
   "metadata": {},
   "outputs": [],
   "source": [
    "from scipy.sparse import dok_matrix\n",
    "from numpy.linalg import norm\n",
    "import numpy as np\n",
    "def sim_scalar(v1, v2, dim):\n",
    "    V1 = dok_matrix((dim, 1), dtype=int)\n",
    "    V2 = dok_matrix((dim, 1), dtype=int)\n",
    "    for pos, v in v1:\n",
    "        V1[pos] = v\n",
    "    for pos, v in v2:\n",
    "        V2[pos] = v\n",
    "    mval = np.dot(np.transpose(V1.todense()), V2.todense())\n",
    "    return mval.item()\n",
    "\n",
    "def sim_cos(v1, v2, dim):\n",
    "    V1 = dok_matrix((dim, 1), dtype=int)\n",
    "    V2 = dok_matrix((dim, 1), dtype=int)\n",
    "    for pos, v in v1:\n",
    "        V1[pos] = v\n",
    "    for pos, v in v2:\n",
    "        V2[pos] = v\n",
    "    V1_d = V1.todense()\n",
    "    V2_d = V2.todense()\n",
    "    mval = np.dot(np.transpose(V1_d), V2_d)\n",
    "    V1_norm = norm(V1_d)\n",
    "    V2_norm = norm(V2_d)\n",
    "    w1 = mval.item()\n",
    "    val = w1 / (V1_norm * V2_norm)\n",
    "    return val"
   ]
  },
  {
   "cell_type": "code",
   "execution_count": 9,
   "metadata": {},
   "outputs": [
    {
     "name": "stdout",
     "output_type": "stream",
     "text": [
      "[(2246, 1), (3113, 1), (3511, 1), (3769, 1), (4762, 1), (5865, 1), (9262, 1)]\n",
      "[(2054, 1), (2246, 1), (3470, 1), (5865, 1), (9357, 1)]\n",
      "2\n",
      "0.33806170189140655\n"
     ]
    }
   ],
   "source": [
    "s1 = 'I drive with my car every day'\n",
    "s2 = 'My car broke down yesterday'\n",
    "s1_prep = s1.lower().split()\n",
    "s2_prep = s2.lower().split()\n",
    "v1 = cmpl_dic.doc2bow(s1_prep)\n",
    "v2 = cmpl_dic.doc2bow(s2_prep)\n",
    "print(v1)\n",
    "print(v2)\n",
    "print(sim_scalar(v1, v2, size_cmpl))\n",
    "print(sim_cos(v1, v2, size_cmpl))"
   ]
  },
  {
   "cell_type": "markdown",
   "metadata": {},
   "source": [
    "### 6."
   ]
  },
  {
   "cell_type": "markdown",
   "metadata": {},
   "source": [
    "Zuerst holen wir uns den Anker String, mit dem die anderen Dokumente verglichen werden sollen."
   ]
  },
  {
   "cell_type": "code",
   "execution_count": 10,
   "metadata": {},
   "outputs": [
    {
     "name": "stdout",
     "output_type": "stream",
     "text": [
      "wants to disarm the passenger's side air bag so that 10-year old daughter can ride in the front passenger's seat.\n"
     ]
    }
   ],
   "source": [
    "anchor_id = 119408\n",
    "sqll = [\n",
    "    'select lower(CDESCR) from CMPL100K ',\n",
    "    f'where CMPLID = {anchor_id}',\n",
    "]\n",
    "sqls = ' '.join(sqll)\n",
    "cursor.execute(sqls)\n",
    "res = cursor.fetchall()\n",
    "anchor_string = res[0][0]\n",
    "print(anchor_string)"
   ]
  },
  {
   "cell_type": "markdown",
   "metadata": {},
   "source": [
    "Jetzt müssen wir durch alle weiteren Dokumente iterieren. Dazu packen wir diese in ein Pandas Dataframe."
   ]
  },
  {
   "cell_type": "code",
   "execution_count": 11,
   "metadata": {},
   "outputs": [],
   "source": [
    "sqll = [\n",
    "    'select CMPLID, lower(CDESCR) from CMPL100K ',\n",
    "]\n",
    "sqls = ' '.join(sqll)\n",
    "cursor.execute(sqls)\n",
    "df = pd.DataFrame(cursor, columns=['CMPLID', 'CDESCR'])"
   ]
  },
  {
   "cell_type": "code",
   "execution_count": 12,
   "metadata": {},
   "outputs": [
    {
     "data": {
      "text/html": [
       "<div>\n",
       "<style scoped>\n",
       "    .dataframe tbody tr th:only-of-type {\n",
       "        vertical-align: middle;\n",
       "    }\n",
       "\n",
       "    .dataframe tbody tr th {\n",
       "        vertical-align: top;\n",
       "    }\n",
       "\n",
       "    .dataframe thead th {\n",
       "        text-align: right;\n",
       "    }\n",
       "</style>\n",
       "<table border=\"1\" class=\"dataframe\">\n",
       "  <thead>\n",
       "    <tr style=\"text-align: right;\">\n",
       "      <th></th>\n",
       "      <th>CMPLID</th>\n",
       "      <th>CDESCR</th>\n",
       "    </tr>\n",
       "  </thead>\n",
       "  <tbody>\n",
       "    <tr>\n",
       "      <td>0</td>\n",
       "      <td>112392</td>\n",
       "      <td>wants listing of dealers who install air bag o...</td>\n",
       "    </tr>\n",
       "    <tr>\n",
       "      <td>1</td>\n",
       "      <td>115865</td>\n",
       "      <td>recalls 95e-024000 and 984-003000, evenflo on ...</td>\n",
       "    </tr>\n",
       "    <tr>\n",
       "      <td>2</td>\n",
       "      <td>116005</td>\n",
       "      <td>evenflo models 207 and 492, dom 12/15/95; the ...</td>\n",
       "    </tr>\n",
       "    <tr>\n",
       "      <td>3</td>\n",
       "      <td>116041</td>\n",
       "      <td>abs brakes failed in rainy weather, resulting ...</td>\n",
       "    </tr>\n",
       "    <tr>\n",
       "      <td>4</td>\n",
       "      <td>119408</td>\n",
       "      <td>wants to disarm the passenger's side air bag s...</td>\n",
       "    </tr>\n",
       "  </tbody>\n",
       "</table>\n",
       "</div>"
      ],
      "text/plain": [
       "   CMPLID                                             CDESCR\n",
       "0  112392  wants listing of dealers who install air bag o...\n",
       "1  115865  recalls 95e-024000 and 984-003000, evenflo on ...\n",
       "2  116005  evenflo models 207 and 492, dom 12/15/95; the ...\n",
       "3  116041  abs brakes failed in rainy weather, resulting ...\n",
       "4  119408  wants to disarm the passenger's side air bag s..."
      ]
     },
     "execution_count": 12,
     "metadata": {},
     "output_type": "execute_result"
    }
   ],
   "source": [
    "df.head(5)"
   ]
  },
  {
   "cell_type": "markdown",
   "metadata": {},
   "source": [
    "Wir nutzen nun für die ähnlichkeit die in gensim eingebaute `SparseMatrixSimilarity`, die das Cosinus-Maß verwendet."
   ]
  },
  {
   "cell_type": "code",
   "execution_count": 13,
   "metadata": {},
   "outputs": [],
   "source": [
    "from gensim.utils import simple_preprocess\n",
    "from collections import defaultdict\n",
    "\n",
    "text_corpus = df['CDESCR'].values\n",
    "\n",
    "# Create a set of frequent words\n",
    "stoplist = set('for a of the and to in'.split(' '))\n",
    "# Lowercase each document, split it by white space and filter out stopwords\n",
    "texts = [[word for word in document.lower().split() if word not in stoplist]\n",
    "         for document in text_corpus]\n",
    "\n",
    "# Count word frequencies\n",
    "from collections import defaultdict\n",
    "frequency = defaultdict(int)\n",
    "for text in texts:\n",
    "    for token in text:\n",
    "        frequency[token] += 1\n",
    "\n",
    "# Only keep words that appear more than once\n",
    "processed_corpus = [[token for token in text if frequency[token] > 3] for text in texts]"
   ]
  },
  {
   "cell_type": "code",
   "execution_count": 14,
   "metadata": {},
   "outputs": [],
   "source": [
    "bow_corpus = [cmpl_dic.doc2bow(text) for text in processed_corpus]"
   ]
  },
  {
   "cell_type": "code",
   "execution_count": 15,
   "metadata": {},
   "outputs": [],
   "source": [
    "from gensim import models\n",
    "\n",
    "tfidf = models.TfidfModel(bow_corpus)"
   ]
  },
  {
   "cell_type": "code",
   "execution_count": 16,
   "metadata": {},
   "outputs": [
    {
     "name": "stdout",
     "output_type": "stream",
     "text": [
      "[(2246, 0.3296688706887746), (3511, 0.6047022610111779), (4762, 0.23639220074549594), (5336, 0.6138571736169237), (5865, 0.30487982723115736)]\n"
     ]
    }
   ],
   "source": [
    "words = \"I like to drive my car\".lower().split()\n",
    "print(tfidf[cmpl_dic.doc2bow(words)])"
   ]
  },
  {
   "cell_type": "code",
   "execution_count": 17,
   "metadata": {},
   "outputs": [],
   "source": [
    "from gensim import similarities\n",
    "\n",
    "index = similarities.SparseMatrixSimilarity(tfidf[bow_corpus], num_features=len(cmpl_dic))"
   ]
  },
  {
   "cell_type": "code",
   "execution_count": 18,
   "metadata": {},
   "outputs": [
    {
     "name": "stdout",
     "output_type": "stream",
     "text": [
      "[0.3769747  0.0362158  0.05509496 ... 0.11375703 0.         0.01163124]\n"
     ]
    }
   ],
   "source": [
    "anchor_query = anchor_string.split()\n",
    "anchor_bow = cmpl_dic.doc2bow(anchor_query)\n",
    "sims = index[tfidf[anchor_bow]]\n",
    "print(sims)"
   ]
  },
  {
   "cell_type": "markdown",
   "metadata": {},
   "source": [
    "Jetzt haben wir die Ähnlichkeit vom Anker zu allen Dokumenten.\n",
    "Nun sortieren wir diesen Vektor. Und geben die top `n` aus:"
   ]
  },
  {
   "cell_type": "code",
   "execution_count": 40,
   "metadata": {},
   "outputs": [
    {
     "name": "stdout",
     "output_type": "stream",
     "text": [
      "4 1.0\n",
      "5 1.0\n",
      "39605 0.49434203\n",
      "29 0.45698875\n",
      "38554 0.45698875\n"
     ]
    }
   ],
   "source": [
    "n = 5\n",
    "i = 0\n",
    "for document_number, score in sorted(enumerate(sims), key=lambda x: x[1], reverse=True):\n",
    "    print(document_number, score)\n",
    "    i += 1\n",
    "    if i == n:\n",
    "        break"
   ]
  },
  {
   "cell_type": "markdown",
   "metadata": {},
   "source": [
    "Die Ergebnisse sind interessant. Wir haben 2 Dokumente mit vollständiger Übereinstimmung. Eines davon muss das selbe Dokument sein, da dies natürlich noch im Corpus enthalten ist und das andere muss ein Duplikat sein. Schauen wir uns diese doch mal an..."
   ]
  },
  {
   "cell_type": "code",
   "execution_count": 20,
   "metadata": {},
   "outputs": [
    {
     "name": "stdout",
     "output_type": "stream",
     "text": [
      "wants to disarm the passenger's side air bag so that 10-year old daughter can ride in the front passenger's seat.\n",
      "119408\n",
      "wants to disarm the passenger's side air bag so that 10-year old daughter can ride in the front passenger's seat.\n",
      "119409\n",
      "consumer wants air bag deactivated due to her short stature and the risk of injury.\n",
      "88979\n",
      "accidental air bag deployment.\n",
      "119746\n",
      "other: air bag failure. (attorney for client) *dsh\n",
      "44792\n"
     ]
    }
   ],
   "source": [
    "print(df['CDESCR'][4])\n",
    "print(df['CMPLID'][4])\n",
    "print(df['CDESCR'][5])\n",
    "print(df['CMPLID'][5])\n",
    "print(df['CDESCR'][39605])\n",
    "print(df['CMPLID'][39605])\n",
    "print(df['CDESCR'][29])\n",
    "print(df['CMPLID'][29])\n",
    "print(df['CDESCR'][38554])\n",
    "print(df['CMPLID'][38554])"
   ]
  },
  {
   "cell_type": "markdown",
   "metadata": {},
   "source": [
    "Das Ergebnis ist gut.\n"
   ]
  },
  {
   "cell_type": "markdown",
   "metadata": {},
   "source": [
    "### 7."
   ]
  },
  {
   "cell_type": "code",
   "execution_count": 9,
   "metadata": {},
   "outputs": [
    {
     "name": "stdout",
     "output_type": "stream",
     "text": [
      "international cat day is a celebration which takes place on 8 august, every year. it was created in 2002 by the international fund for animal welfare. international cat day is also referred to as world cat day in some countries and since its inception, it has been growing worldwide. and the u.s. celebrate both international cat day and their own national cat day on october 29th. international cat day is a day to raise awareness for cats and learn about ways to help and protect them. cat day is another unofficial cat holiday observed on february 22, that originated in japan and has become a social media sensation and is growing worldwide as people across the globe share their cat pictures and videos.\n"
     ]
    }
   ],
   "source": [
    "# 10 ist der cat day\n",
    "anchor_id = 10\n",
    "sqll = [\n",
    "    'select lower(TEXT) from WIKI',\n",
    "    f'where ID = {anchor_id}',\n",
    "]\n",
    "sqls = ' '.join(sqll)\n",
    "cursor.execute(sqls)\n",
    "res = cursor.fetchall()\n",
    "anchor_string = res[0][0]\n",
    "print(anchor_string)"
   ]
  },
  {
   "cell_type": "code",
   "execution_count": 10,
   "metadata": {},
   "outputs": [],
   "source": [
    "sqll = [\n",
    "    'select ID, lower(TEXT) from WIKI ',\n",
    "]\n",
    "sqls = ' '.join(sqll)\n",
    "cursor.execute(sqls)\n",
    "df = pd.DataFrame(cursor, columns=['ID', 'TEXT'])"
   ]
  },
  {
   "cell_type": "code",
   "execution_count": 11,
   "metadata": {},
   "outputs": [
    {
     "data": {
      "text/html": [
       "<div>\n",
       "<style scoped>\n",
       "    .dataframe tbody tr th:only-of-type {\n",
       "        vertical-align: middle;\n",
       "    }\n",
       "\n",
       "    .dataframe tbody tr th {\n",
       "        vertical-align: top;\n",
       "    }\n",
       "\n",
       "    .dataframe thead th {\n",
       "        text-align: right;\n",
       "    }\n",
       "</style>\n",
       "<table border=\"1\" class=\"dataframe\">\n",
       "  <thead>\n",
       "    <tr style=\"text-align: right;\">\n",
       "      <th></th>\n",
       "      <th>ID</th>\n",
       "      <th>TEXT</th>\n",
       "    </tr>\n",
       "  </thead>\n",
       "  <tbody>\n",
       "    <tr>\n",
       "      <td>0</td>\n",
       "      <td>2681</td>\n",
       "      <td>barcarenichthyes is an extinct genus of prehis...</td>\n",
       "    </tr>\n",
       "    <tr>\n",
       "      <td>1</td>\n",
       "      <td>2682</td>\n",
       "      <td>austrolepidotus is an extinct genus of prehist...</td>\n",
       "    </tr>\n",
       "    <tr>\n",
       "      <td>2</td>\n",
       "      <td>2683</td>\n",
       "      <td>aulolepis is an extinct genus of prehistoric b...</td>\n",
       "    </tr>\n",
       "    <tr>\n",
       "      <td>3</td>\n",
       "      <td>2684</td>\n",
       "      <td>archaeomaene tenuis is an extinct species of l...</td>\n",
       "    </tr>\n",
       "    <tr>\n",
       "      <td>4</td>\n",
       "      <td>2685</td>\n",
       "      <td>amiopsis is an extinct genus of prehistoric bo...</td>\n",
       "    </tr>\n",
       "  </tbody>\n",
       "</table>\n",
       "</div>"
      ],
      "text/plain": [
       "     ID                                               TEXT\n",
       "0  2681  barcarenichthyes is an extinct genus of prehis...\n",
       "1  2682  austrolepidotus is an extinct genus of prehist...\n",
       "2  2683  aulolepis is an extinct genus of prehistoric b...\n",
       "3  2684  archaeomaene tenuis is an extinct species of l...\n",
       "4  2685  amiopsis is an extinct genus of prehistoric bo..."
      ]
     },
     "execution_count": 11,
     "metadata": {},
     "output_type": "execute_result"
    }
   ],
   "source": [
    "df.head(5)"
   ]
  },
  {
   "cell_type": "code",
   "execution_count": 12,
   "metadata": {},
   "outputs": [],
   "source": [
    "from gensim.utils import simple_preprocess\n",
    "from collections import defaultdict\n",
    "\n",
    "text_corpus = df['TEXT'].values\n",
    "\n",
    "# Create a set of frequent words\n",
    "stoplist = set('for a of the and to in'.split(' '))\n",
    "# Lowercase each document, split it by white space and filter out stopwords\n",
    "texts = [[word for word in document.lower().split() if word not in stoplist]\n",
    "         for document in text_corpus]\n",
    "\n",
    "# Count word frequencies\n",
    "from collections import defaultdict\n",
    "frequency = defaultdict(int)\n",
    "for text in texts:\n",
    "    for token in text:\n",
    "        frequency[token] += 1\n",
    "\n",
    "# Only keep words that appear more than once\n",
    "processed_corpus = [[token for token in text if frequency[token] > 3] for text in texts]"
   ]
  },
  {
   "cell_type": "code",
   "execution_count": 13,
   "metadata": {},
   "outputs": [],
   "source": [
    "bow_corpus = [wiki_dic.doc2bow(text) for text in processed_corpus]"
   ]
  },
  {
   "cell_type": "code",
   "execution_count": 26,
   "metadata": {},
   "outputs": [],
   "source": [
    "from gensim import models\n",
    "\n",
    "tfidf = models.TfidfModel(bow_corpus)"
   ]
  },
  {
   "cell_type": "code",
   "execution_count": 15,
   "metadata": {},
   "outputs": [
    {
     "name": "stdout",
     "output_type": "stream",
     "text": [
      "[(1216, 0.6441788725831233), (2309, 0.5903316479509355), (5865, 0.48635596587794494)]\n"
     ]
    }
   ],
   "source": [
    "# transform the \"system minors\" string\n",
    "words = \"My cat is a grumpy kitten\".lower().split()\n",
    "print(tfidf[cmpl_dic.doc2bow(words)])"
   ]
  },
  {
   "cell_type": "code",
   "execution_count": 16,
   "metadata": {},
   "outputs": [],
   "source": [
    "from gensim import similarities\n",
    "\n",
    "index = similarities.SparseMatrixSimilarity(tfidf[bow_corpus], num_features=len(wiki_dic))"
   ]
  },
  {
   "cell_type": "code",
   "execution_count": 17,
   "metadata": {},
   "outputs": [
    {
     "name": "stdout",
     "output_type": "stream",
     "text": [
      "[0.         0.         0.         ... 0.03734214 0.03487265 0.01928222]\n"
     ]
    }
   ],
   "source": [
    "anchor_query = anchor_string.split()\n",
    "anchor_bow = wiki_dic.doc2bow(anchor_query)\n",
    "sims = index[tfidf[anchor_bow]]\n",
    "print(sims)"
   ]
  },
  {
   "cell_type": "code",
   "execution_count": 1,
   "metadata": {},
   "outputs": [],
   "source": [
    "n = 5\n",
    "i = 0\n",
    "for document_number, score in sorted(enumerate(sims), key=lambda x: x[1], reverse=True):\n",
    "    print(document_number, score)\n",
    "    i += 1\n",
    "    if i == n:\n",
    "        break"
   ]
  },
  {
   "cell_type": "code",
   "execution_count": 19,
   "metadata": {},
   "outputs": [],
   "source": [
    "def print_info(idx):\n",
    "    print(f\"ID: {df['ID'][idx]}\")\n",
    "    print(df['TEXT'][idx])"
   ]
  },
  {
   "cell_type": "code",
   "execution_count": 22,
   "metadata": {},
   "outputs": [
    {
     "name": "stdout",
     "output_type": "stream",
     "text": [
      "ID: 10\n",
      "international cat day is a celebration which takes place on 8 august, every year. it was created in 2002 by the international fund for animal welfare. international cat day is also referred to as world cat day in some countries and since its inception, it has been growing worldwide. and the u.s. celebrate both international cat day and their own national cat day on october 29th. international cat day is a day to raise awareness for cats and learn about ways to help and protect them. cat day is another unofficial cat holiday observed on february 22, that originated in japan and has become a social media sensation and is growing worldwide as people across the globe share their cat pictures and videos.\n",
      "ID: 554\n",
      "national cat day is an awareness day to raise awareness of homeless cats. it takes place on august 8 in canada, or october 29 in the united states. international cat day, august 8, was created in 2002 by the international fund for animal welfare.\n",
      "ID: 210\n",
      "the cheshire cat (/ˈtʃɛʃər/ or /ˈtʃɛʃɪər/) is a fictional cat popularised by lewis carroll in alice's adventures in wonderland and known for its distinctive mischievous grin. while most often celebrated in alice-related contexts, the cheshire cat predates the 1865 novel and has transcended the context of literature and become enmeshed in popular culture, appearing in various forms of media, from political cartoons to television, as well as cross-disciplinary studies, from business to science. one of its distinguishing features is that from time to time its body disappears, the last thing visible being its iconic grin. there are numerous theories about the origins of the phrase \"grinning like a cheshire cat\" in english history. a survey published in 2015 showed how highly fanciful were so many purported explanations seen on the internet. cream\" (which could apply to any part of the country, although cheshire was the pre-eminent milk, cheese, and cream-producing county for several centuries) with cheshire's unique privileged political status. on their own, either of these would have been something to grin about. importantly, the county was described as a palatinate from the 1290s and was promoted to be a principality in 1397, following the support its men gave king richard ii. no other english county has been honoured in this way or was accorded such unusually wide privileges. these included its own \"borderland\" laws and taxes, and a considerable measure of independence from national government, which persisted into the sixteenth century. these privileges attracted many who \"arrived as fugitives from justice and this seems to have become the principal motivation [for escaping to cheshire from the kings laws] as the middle ages wore on\". , as in the beat generation idiom. the cheshire cat is now largely identified with the character of the same name in lewis carroll's novel alice's adventures in wonderland. alice first encounters the cheshire cat at the duchess's house in her kitchen, and later on the branches of a tree, where it appears and disappears at will, and engages alice in amusing but sometimes perplexing conversation. the cat sometimes raises philosophical points that annoy or baffle alice; but appears to cheer her when it appears suddenly at the queen of hearts' croquet field; and when sentenced to death, baffles everyone by having made its head appear without its body, sparking a debate between the executioner and the king and queen of hearts about whether a disembodied head can indeed be beheaded. at one point, the cat disappears gradually until nothing is left but its grin, prompting alice to remark that \"she has often seen a cat without a grin but never a grin without a cat\". according to recent analysis by scholar david day, lewis carroll's cat was edward bouverie pusey, oxford professor of hebrew, and carroll's mentor. the name pusey was suggested by alice's deferential address of the cat as \"cheshire puss\". pusey was an authority on the fathers of the christian church, and in carroll's time pusey was known as the patristic catenary (or chain), after the chain of authority of church patriarchs. as a mathematician, carroll would have been well familiar with the other meaning of catenary: the curve of a horizontally-suspended chain, which suggests the shape of the cat's grin. there are many other suggestions that carroll found inspiration for the name and expression of the cheshire cat in the 16th century sandstone carving of a grinning cat, on the west face of st. wilfrid's church tower in grappenhall, a village 4.9 miles from to his birthplace in daresbury, cheshire. lewis carroll's father, reverend charles dodgson, was rector of croft and archdeacon of richmond in north yorkshire, england, from 1843 to 1868; carroll lived here from 1843 to 1850. another possible inspiration was the british shorthair: carroll saw a representative british shorthair illustrated on a label of cheshire cheese. in 1992, members of the lewis carroll society attributed it to a gargoyle found on a pillar in st nicolas church, cranleigh, where carroll used to travel frequently when he lived in guildford (though this is doubtful as he moved to guildford some three years after alice's adventures in wonderland had been published) and a carving in a church in the village of croft-on-tees, in the north east of england, where his father had been rector. carroll is believed[according to whom?] to have visited st christopher's church in pott shrigley, cheshire, which has a stone sculpture resembling the pictorial cat in the book. the cheshire cat character has been re-depicted by other creators and used as the inspiration for new characters, primarily in screen media (film, television, video games) and print media (literature, comics, art). other non-media contexts that embrace the cheshire cat include music, business, and science. prior to 1951 when walt disney released an animated adaptation of the story (see below), there were few post-alice allusions to the character. martin gardner, author of the annotated alice, wondered if t. s. eliot had the cheshire cat in mind when writing morning at the window, but notes no other significant allusions in the pre-war period. images of and references to the cheshire cat cropped up with increasing frequency in the 1960s and 1970s, along with more frequent references to carroll's works in general. (see generally the lyrics to white rabbit by the rock group jefferson airplane). in the 1951 disney animated film, alice in wonderland, the cheshire cat is depicted as an intelligent and mischievous character that sometimes helps alice and sometimes gets her into trouble. he frequently sings the first verse of the jabberwocky poem. the animated character was voiced by sterling holloway (alice in wonderland) and jim cummings (2004–present). in the 1985 television adaptation of carroll's books, the cheshire cat is voiced by telly savalas. he sings a morose song called \"there's no way home\", which simply drives alice to try and find a way home even more. in the 1999 television adaptation of carroll's books, the cheshire cat is voiced by whoopi goldberg. she acts as an ally and friend to alice. the cheshire cat appears in walt disney's 2010 alice in wonderland, directed by tim burton. british actor stephen fry voices the character. in the video game adaptation of the movie, chess is a playable character who can not only turn himself invisible, but other objects around him as well. in october 25, 2019, it was reported that an undetermined cheshire cat project is being developed by disney for its streaming service, disney+. each major film adaptation of lewis carroll's tale represents the cheshire cat character and his traits uniquely. in addition to the cheshire cat's appearances in films central to its lewis carroll origins, the cheshire cat has been featured in other cinematic works. the late filmmaker chris marker gave his monumental documentary on the new left movement of 1967–1977, le fond de l'air est rouge (1977), the english title grin without a cat. like the original, it signifies that revolution was in the air, but failed to take root. in the film, it is also stated: a spearhead without a spear, a grin without a cat. the cheshire cat has been seen by television audiences in a broadcast spin-off. the cheshire cat appears in once upon a time in wonderland (a spin-off of once upon a time) voiced by keith david. while looking for the mad hatter's house from the trees, alice encounters the cheshire cat in giant form where the red queen had promised him that alice would be good food for him. they end up engaging each other in combat until the knave of hearts arrives and throws a piece of one mushroom side into his mouth, which shrinks the cat back to normal size, and he leaves. the cheshire cat appears as an avatar character in the video games american mcgee's alice (2000); and the sequel alice: madness returns (2011), the cheshire cat is portrayed as an enigmatic and snarky, yet wise guide for alice in the corrupted wonderland. in keeping with the twisted tone of the game, the cheshire cat is mangy and emaciated in appearance. his voice was provided by roger l. jackson, who also voiced the mad hatter and the jabberwock in the game. the cheshire cat appears in sunsoft's 2006 mobile game alice's warped wonderland (歪みの国のアリス, yugami no kuni no arisu, alice in distortion world), serving as the guide to ariko (the \"alice\" of the game) and helps her chase after the white rabbit. in the game, cheshire cat is portrayed with a humanoid body and wears a long gray cloak with a red-string bell around his neck, leaving only his nose, razor-sharp teeth, and wide grin visible. in wonderland, cheshire cat is the \"guide\", an important role that makes him feared by the other residents, and is compelled by ariko's inner will to help her unlock her suppressed, traumatic memories and overcome her suicidal depression. later in the game, cheshire cat gets beheaded by the queen of hearts, but is still alive and his body is able to move on its own. due to the white rabbit's deranged state, cheshire cat fulfills his role of absorbing ariko's negative emotions, though the task puts a large strain on him. in this adaptation, cheshire cat has many other abilities, such as invisibility, disappearing and appearing at any location at will, superhuman strength, capable of seeing the invisible small-time, and can enter the real world in the form of a gray-furred cat. cheshire cat is described to have a low, soothing voice and speaks in a matter-of-fact, sometimes cryptic manner. while his playful, odd behavior sometimes frightens ariko, cheshire cat has a very warm, caring, and loving demeanor towards ariko, acting as her devoted confidante and protector throughout the game. in some of the bad endings, adsorbing too much of ariko's negative emotions twisted cheshire cat's personality, causing him to become possessive of ariko and murderous, killing anyone to monopolize ariko for himself or even outright eating her. the cheshire cat appears in heart no kuni no alice, a dating sim game and its related media, as a young man named \"boris airay\", with cat-like attributes such as a tail and cat ears, and is one of the many love interests for alice in wonderland. cheshire cat is used as a metaphor to explain several scientific phenomena:\n",
      "ID: 80\n",
      "the southern africa cat council (sacc) is a cat registry and cat fancy organisation based in south africa, affiliating 9 clubs, 14 breed groups and 4 judges panels. sacc was founded in 1945 as the associated cat clubs of south africa, the first organisation serving the south african cat fancy. in 1996, the members overhauled the organisation's structure and constitution, and adopted the name southern african cat council. sacc joined the world cat congress in 2006.\n"
     ]
    }
   ],
   "source": [
    "print_info(1204)\n",
    "print_info(1364)\n",
    "print_info(1597)\n",
    "print_info(1407)"
   ]
  },
  {
   "cell_type": "markdown",
   "metadata": {},
   "source": [
    "## Teil II"
   ]
  },
  {
   "cell_type": "markdown",
   "metadata": {},
   "source": [
    "### 1."
   ]
  },
  {
   "cell_type": "markdown",
   "metadata": {},
   "source": [
    "Anfragevektoren:"
   ]
  },
  {
   "cell_type": "code",
   "execution_count": 155,
   "metadata": {},
   "outputs": [],
   "source": [
    "q1 = {'AIR': 1, 'BAG': 1}\n",
    "q2 = {'AIR': 1, 'BAG': 1, 'ACCIDENT':1}\n",
    "q3 = {'AIR': 1, 'BAG': 1, 'FIRE': 1}\n",
    "q4 = {'AIR': 2, 'BAG': 2, 'DEPLOYMENT':2, 'ACCIDENT':2}\n",
    "q5 = {'BULL': 2, 'SHIT': 2}"
   ]
  },
  {
   "cell_type": "markdown",
   "metadata": {},
   "source": [
    "Generate bag of words"
   ]
  },
  {
   "cell_type": "code",
   "execution_count": 156,
   "metadata": {},
   "outputs": [],
   "source": [
    "def query_to_bow(q, tfidf, dic):\n",
    "    words = []\n",
    "    for key in q:\n",
    "        for _ in range(q[key]):\n",
    "            words.append(str(key).lower())\n",
    "    bow = tfidf[dic.doc2bow(words)]\n",
    "    return bow"
   ]
  },
  {
   "cell_type": "code",
   "execution_count": 158,
   "metadata": {},
   "outputs": [],
   "source": [
    "bow1 = query_to_bow(q1, tfidf, cmpl_dic)\n",
    "bow2 = query_to_bow(q2, tfidf, cmpl_dic)\n",
    "bow3 = query_to_bow(q3, tfidf, cmpl_dic)\n",
    "bow4 = query_to_bow(q4, tfidf, cmpl_dic)\n",
    "bow5 = query_to_bow(q5, tfidf, cmpl_dic)"
   ]
  },
  {
   "cell_type": "code",
   "execution_count": 27,
   "metadata": {},
   "outputs": [
    {
     "data": {
      "text/plain": [
       "[(1379, 0.41180570402967587),\n",
       " (1726, 0.6283384969694659),\n",
       " (2055, 0.6432658087920369),\n",
       " (5030, 0.1477020466814936)]"
      ]
     },
     "execution_count": 27,
     "metadata": {},
     "output_type": "execute_result"
    }
   ],
   "source": [
    "sims = index[tfidf[anchor_bow]]\n",
    "n = 5\n",
    "i = 0\n",
    "for document_number, score in sorted(enumerate(sims), key=lambda x: x[1], reverse=True):\n",
    "    print(document_number, score)\n",
    "    i += 1\n",
    "    if i == n:\n",
    "        break"
   ]
  },
  {
   "cell_type": "code",
   "execution_count": 41,
   "metadata": {},
   "outputs": [],
   "source": [
    "sqll = [\n",
    "    'select CMPLID, lower(COMPDESC) from CMPL100K ',\n",
    "]\n",
    "sqls = ' '.join(sqll)\n",
    "cursor.execute(sqls)\n",
    "df_pr = pd.DataFrame(cursor, columns=['id', 'compdesc'])"
   ]
  },
  {
   "cell_type": "code",
   "execution_count": 150,
   "metadata": {},
   "outputs": [],
   "source": [
    "import matplotlib.pyplot as plt\n",
    "import scikitplot as skplt\n",
    "\n",
    "\n",
    "def prc(bow):\n",
    "    sims = index[bow]\n",
    "    df_pr['y'] = df_pr['compdesc'].str.contains('air bags').astype(int)\n",
    "    df_pr['pred'] = sims\n",
    "\n",
    "    y = df_pr['y'].values\n",
    "    pred = df_pr['pred'].values\n",
    "    pmat = np.column_stack((1-pred,pred))\n",
    "    skplt.metrics.plot_precision_recall(y, pmat)"
   ]
  },
  {
   "cell_type": "code",
   "execution_count": 151,
   "metadata": {},
   "outputs": [
    {
     "data": {
      "image/png": "[encoded data removed]",
      "text/plain": [
       "<Figure size 432x288 with 1 Axes>"
      ]
     },
     "metadata": {
      "needs_background": "light"
     },
     "output_type": "display_data"
    }
   ],
   "source": [
    "prc(bow1)"
   ]
  },
  {
   "cell_type": "code",
   "execution_count": 152,
   "metadata": {},
   "outputs": [
    {
     "data": {
      "image/png": "[encoded data removed]",
      "text/plain": [
       "<Figure size 432x288 with 1 Axes>"
      ]
     },
     "metadata": {
      "needs_background": "light"
     },
     "output_type": "display_data"
    }
   ],
   "source": [
    "prc(bow2)"
   ]
  },
  {
   "cell_type": "code",
   "execution_count": 153,
   "metadata": {},
   "outputs": [
    {
     "data": {
      "image/png": "[encoded data removed]",
      "text/plain": [
       "<Figure size 432x288 with 1 Axes>"
      ]
     },
     "metadata": {
      "needs_background": "light"
     },
     "output_type": "display_data"
    }
   ],
   "source": [
    "prc(bow3)"
   ]
  },
  {
   "cell_type": "code",
   "execution_count": 154,
   "metadata": {},
   "outputs": [
    {
     "data": {
      "image/png": "[encoded data removed]",
      "text/plain": [
       "<Figure size 432x288 with 1 Axes>"
      ]
     },
     "metadata": {
      "needs_background": "light"
     },
     "output_type": "display_data"
    }
   ],
   "source": [
    "prc(bow4)"
   ]
  },
  {
   "cell_type": "code",
   "execution_count": 160,
   "metadata": {},
   "outputs": [
    {
     "data": {
      "image/png": "[encoded data removed]",
      "text/plain": [
       "<Figure size 432x288 with 1 Axes>"
      ]
     },
     "metadata": {
      "needs_background": "light"
     },
     "output_type": "display_data"
    }
   ],
   "source": [
    "prc(bow5)"
   ]
  },
  {
   "cell_type": "markdown",
   "metadata": {},
   "source": [
    "Nicht hübsche Alternative"
   ]
  },
  {
   "cell_type": "code",
   "execution_count": 162,
   "metadata": {},
   "outputs": [
    {
     "data": {
      "text/plain": [
       "[<matplotlib.lines.Line2D at 0x16b2090c648>]"
      ]
     },
     "execution_count": 162,
     "metadata": {},
     "output_type": "execute_result"
    },
    {
     "data": {
      "image/png": "[encoded data removed]",
      "text/plain": [
       "<Figure size 432x288 with 1 Axes>"
      ]
     },
     "metadata": {
      "needs_background": "light"
     },
     "output_type": "display_data"
    }
   ],
   "source": [
    "from sklearn.metrics import precision_recall_curve\n",
    "from matplotlib import pyplot\n",
    "sims = index[bow3]\n",
    "df_pr['y'] = df_pr['compdesc'].str.contains('air bags').astype(int)\n",
    "df_pr['pred'] = sims\n",
    "\n",
    "y = df_pr['y'].values\n",
    "pred = df_pr['pred'].values\n",
    "\n",
    "\n",
    "lr_precision, lr_recall, _ = precision_recall_curve(y, pred)\n",
    "\n",
    "pyplot.plot(lr_recall, lr_precision, marker='.', label='Cosine')"
   ]
  },
  {
   "cell_type": "code",
   "execution_count": null,
   "metadata": {},
   "outputs": [],
   "source": []
  }
 ],
 "metadata": {
  "kernelspec": {
   "display_name": "Python 3",
   "language": "python",
   "name": "python3"
  },
  "language_info": {
   "codemirror_mode": {
    "name": "ipython",
    "version": 3
   },
   "file_extension": ".py",
   "mimetype": "text/x-python",
   "name": "python",
   "nbconvert_exporter": "python",
   "pygments_lexer": "ipython3",
   "version": "3.7.4"
  }
 },
 "nbformat": 4,
 "nbformat_minor": 2
}
