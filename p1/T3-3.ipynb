{
 "cells": [
  {
   "cell_type": "code",
   "execution_count": 4,
   "metadata": {},
   "outputs": [],
   "source": [
    "import pandas as pd\n",
    "from tld import get_tld\n",
    "import matplotlib.pyplot as plt\n",
    "from wordcloud import WordCloud, STOPWORDS, ImageColorGenerator\n",
    "%matplotlib inline"
   ]
  },
  {
   "cell_type": "markdown",
   "metadata": {},
   "source": [
    "# Importing csv"
   ]
  },
  {
   "cell_type": "code",
   "execution_count": 5,
   "metadata": {},
   "outputs": [],
   "source": [
    "df = pd.read_csv (r'RedditSpider.csv')"
   ]
  },
  {
   "cell_type": "code",
   "execution_count": 6,
   "metadata": {},
   "outputs": [
    {
     "data": {
      "text/html": [
       "<div>\n",
       "<style scoped>\n",
       "    .dataframe tbody tr th:only-of-type {\n",
       "        vertical-align: middle;\n",
       "    }\n",
       "\n",
       "    .dataframe tbody tr th {\n",
       "        vertical-align: top;\n",
       "    }\n",
       "\n",
       "    .dataframe thead th {\n",
       "        text-align: right;\n",
       "    }\n",
       "</style>\n",
       "<table border=\"1\" class=\"dataframe\">\n",
       "  <thead>\n",
       "    <tr style=\"text-align: right;\">\n",
       "      <th></th>\n",
       "      <th>from</th>\n",
       "      <th>to</th>\n",
       "      <th>title</th>\n",
       "    </tr>\n",
       "  </thead>\n",
       "  <tbody>\n",
       "    <tr>\n",
       "      <td>0</td>\n",
       "      <td>https://www.reddit.com/r/news/</td>\n",
       "      <td>https://www.cnbc.com/2019/11/18/criminal-charg...</td>\n",
       "      <td>Criminal charges expected this week against Ep...</td>\n",
       "    </tr>\n",
       "    <tr>\n",
       "      <td>1</td>\n",
       "      <td>https://www.reddit.com/r/news/</td>\n",
       "      <td>https://www.taiwannews.com.tw/en/news/3819595</td>\n",
       "      <td>Video sparks fears Hong Kong protesters being ...</td>\n",
       "    </tr>\n",
       "    <tr>\n",
       "      <td>2</td>\n",
       "      <td>https://www.reddit.com/r/news/</td>\n",
       "      <td>https://www.cnn.com/2019/11/18/middleeast/iran...</td>\n",
       "      <td>Iran has gone almost entirely offline as autho...</td>\n",
       "    </tr>\n",
       "    <tr>\n",
       "      <td>3</td>\n",
       "      <td>https://www.reddit.com/r/news/</td>\n",
       "      <td>https://www.cnbc.com/2019/11/18/chick-fil-a-dr...</td>\n",
       "      <td>Chick-fil-A drops donations to Christian chari...</td>\n",
       "    </tr>\n",
       "    <tr>\n",
       "      <td>4</td>\n",
       "      <td>https://www.reddit.com/r/news/</td>\n",
       "      <td>https://www.cbsnews.com/video/jeffrey-epstein-...</td>\n",
       "      <td>Jeffrey Epstein accuser describes cameras that...</td>\n",
       "    </tr>\n",
       "  </tbody>\n",
       "</table>\n",
       "</div>"
      ],
      "text/plain": [
       "                             from  \\\n",
       "0  https://www.reddit.com/r/news/   \n",
       "1  https://www.reddit.com/r/news/   \n",
       "2  https://www.reddit.com/r/news/   \n",
       "3  https://www.reddit.com/r/news/   \n",
       "4  https://www.reddit.com/r/news/   \n",
       "\n",
       "                                                  to  \\\n",
       "0  https://www.cnbc.com/2019/11/18/criminal-charg...   \n",
       "1      https://www.taiwannews.com.tw/en/news/3819595   \n",
       "2  https://www.cnn.com/2019/11/18/middleeast/iran...   \n",
       "3  https://www.cnbc.com/2019/11/18/chick-fil-a-dr...   \n",
       "4  https://www.cbsnews.com/video/jeffrey-epstein-...   \n",
       "\n",
       "                                               title  \n",
       "0  Criminal charges expected this week against Ep...  \n",
       "1  Video sparks fears Hong Kong protesters being ...  \n",
       "2  Iran has gone almost entirely offline as autho...  \n",
       "3  Chick-fil-A drops donations to Christian chari...  \n",
       "4  Jeffrey Epstein accuser describes cameras that...  "
      ]
     },
     "execution_count": 6,
     "metadata": {},
     "output_type": "execute_result"
    }
   ],
   "source": [
    "df.head()"
   ]
  },
  {
   "cell_type": "code",
   "execution_count": 7,
   "metadata": {},
   "outputs": [
    {
     "name": "stdout",
     "output_type": "stream",
     "text": [
      "<class 'pandas.core.frame.DataFrame'>\n",
      "RangeIndex: 96 entries, 0 to 95\n",
      "Data columns (total 3 columns):\n",
      "from     96 non-null object\n",
      "to       96 non-null object\n",
      "title    96 non-null object\n",
      "dtypes: object(3)\n",
      "memory usage: 2.4+ KB\n"
     ]
    }
   ],
   "source": [
    "df.info()"
   ]
  },
  {
   "cell_type": "markdown",
   "metadata": {},
   "source": [
    "# Erweitern um die TLDs"
   ]
  },
  {
   "cell_type": "code",
   "execution_count": 8,
   "metadata": {
    "scrolled": true
   },
   "outputs": [],
   "source": [
    "l = []\n",
    "for e in df['to']:\n",
    "    l.append(get_tld(e, fail_silently=True))\n",
    "df['tld'] = l"
   ]
  },
  {
   "cell_type": "code",
   "execution_count": 9,
   "metadata": {
    "scrolled": true
   },
   "outputs": [
    {
     "data": {
      "text/html": [
       "<div>\n",
       "<style scoped>\n",
       "    .dataframe tbody tr th:only-of-type {\n",
       "        vertical-align: middle;\n",
       "    }\n",
       "\n",
       "    .dataframe tbody tr th {\n",
       "        vertical-align: top;\n",
       "    }\n",
       "\n",
       "    .dataframe thead th {\n",
       "        text-align: right;\n",
       "    }\n",
       "</style>\n",
       "<table border=\"1\" class=\"dataframe\">\n",
       "  <thead>\n",
       "    <tr style=\"text-align: right;\">\n",
       "      <th></th>\n",
       "      <th>from</th>\n",
       "      <th>to</th>\n",
       "      <th>title</th>\n",
       "      <th>tld</th>\n",
       "    </tr>\n",
       "  </thead>\n",
       "  <tbody>\n",
       "    <tr>\n",
       "      <td>0</td>\n",
       "      <td>https://www.reddit.com/r/news/</td>\n",
       "      <td>https://www.cnbc.com/2019/11/18/criminal-charg...</td>\n",
       "      <td>Criminal charges expected this week against Ep...</td>\n",
       "      <td>com</td>\n",
       "    </tr>\n",
       "    <tr>\n",
       "      <td>1</td>\n",
       "      <td>https://www.reddit.com/r/news/</td>\n",
       "      <td>https://www.taiwannews.com.tw/en/news/3819595</td>\n",
       "      <td>Video sparks fears Hong Kong protesters being ...</td>\n",
       "      <td>com.tw</td>\n",
       "    </tr>\n",
       "    <tr>\n",
       "      <td>2</td>\n",
       "      <td>https://www.reddit.com/r/news/</td>\n",
       "      <td>https://www.cnn.com/2019/11/18/middleeast/iran...</td>\n",
       "      <td>Iran has gone almost entirely offline as autho...</td>\n",
       "      <td>com</td>\n",
       "    </tr>\n",
       "    <tr>\n",
       "      <td>3</td>\n",
       "      <td>https://www.reddit.com/r/news/</td>\n",
       "      <td>https://www.cnbc.com/2019/11/18/chick-fil-a-dr...</td>\n",
       "      <td>Chick-fil-A drops donations to Christian chari...</td>\n",
       "      <td>com</td>\n",
       "    </tr>\n",
       "    <tr>\n",
       "      <td>4</td>\n",
       "      <td>https://www.reddit.com/r/news/</td>\n",
       "      <td>https://www.cbsnews.com/video/jeffrey-epstein-...</td>\n",
       "      <td>Jeffrey Epstein accuser describes cameras that...</td>\n",
       "      <td>com</td>\n",
       "    </tr>\n",
       "  </tbody>\n",
       "</table>\n",
       "</div>"
      ],
      "text/plain": [
       "                             from  \\\n",
       "0  https://www.reddit.com/r/news/   \n",
       "1  https://www.reddit.com/r/news/   \n",
       "2  https://www.reddit.com/r/news/   \n",
       "3  https://www.reddit.com/r/news/   \n",
       "4  https://www.reddit.com/r/news/   \n",
       "\n",
       "                                                  to  \\\n",
       "0  https://www.cnbc.com/2019/11/18/criminal-charg...   \n",
       "1      https://www.taiwannews.com.tw/en/news/3819595   \n",
       "2  https://www.cnn.com/2019/11/18/middleeast/iran...   \n",
       "3  https://www.cnbc.com/2019/11/18/chick-fil-a-dr...   \n",
       "4  https://www.cbsnews.com/video/jeffrey-epstein-...   \n",
       "\n",
       "                                               title     tld  \n",
       "0  Criminal charges expected this week against Ep...     com  \n",
       "1  Video sparks fears Hong Kong protesters being ...  com.tw  \n",
       "2  Iran has gone almost entirely offline as autho...     com  \n",
       "3  Chick-fil-A drops donations to Christian chari...     com  \n",
       "4  Jeffrey Epstein accuser describes cameras that...     com  "
      ]
     },
     "execution_count": 9,
     "metadata": {},
     "output_type": "execute_result"
    }
   ],
   "source": [
    "df.head()"
   ]
  },
  {
   "cell_type": "markdown",
   "metadata": {},
   "source": [
    "***\n",
    "# Einfach Auswertung zu den TLDs"
   ]
  },
  {
   "cell_type": "markdown",
   "metadata": {},
   "source": [
    "Aufsummierung der tlds aus dem Feld 'url'"
   ]
  },
  {
   "cell_type": "code",
   "execution_count": 10,
   "metadata": {
    "scrolled": true
   },
   "outputs": [
    {
     "data": {
      "text/plain": [
       "com       87\n",
       "org        4\n",
       "net.au     1\n",
       "ca         1\n",
       "co.uk      1\n",
       "net        1\n",
       "com.tw     1\n",
       "Name: tld, dtype: int64"
      ]
     },
     "execution_count": 10,
     "metadata": {},
     "output_type": "execute_result"
    }
   ],
   "source": [
    "df['tld'].value_counts()"
   ]
  },
  {
   "cell_type": "markdown",
   "metadata": {},
   "source": [
    "Erzeugen einer grafischen Darstellung"
   ]
  },
  {
   "cell_type": "code",
   "execution_count": 11,
   "metadata": {
    "scrolled": false
   },
   "outputs": [
    {
     "data": {
      "text/plain": [
       "<matplotlib.axes._subplots.AxesSubplot at 0x17a4af965c8>"
      ]
     },
     "execution_count": 11,
     "metadata": {},
     "output_type": "execute_result"
    },
    {
     "data": {
      "image/png": "[encoded data removed]",
      "text/plain": [
       "<Figure size 720x720 with 1 Axes>"
      ]
     },
     "metadata": {
      "needs_background": "light"
     },
     "output_type": "display_data"
    }
   ],
   "source": [
    "df['tld'].value_counts().plot(kind='bar', figsize=(10,10))"
   ]
  },
  {
   "cell_type": "markdown",
   "metadata": {},
   "source": [
    "Aufsummierung der tlds aus dem Feld 'url' und Berechnung des Anteils am Gesamten. Anschließend grafische Darstellung als Pie Chart."
   ]
  },
  {
   "cell_type": "code",
   "execution_count": 12,
   "metadata": {},
   "outputs": [
    {
     "data": {
      "text/plain": [
       "com       0.906250\n",
       "org       0.041667\n",
       "net.au    0.010417\n",
       "ca        0.010417\n",
       "co.uk     0.010417\n",
       "net       0.010417\n",
       "com.tw    0.010417\n",
       "Name: tld, dtype: float64"
      ]
     },
     "execution_count": 12,
     "metadata": {},
     "output_type": "execute_result"
    }
   ],
   "source": [
    "df['tld'].value_counts(normalize=True)"
   ]
  },
  {
   "cell_type": "code",
   "execution_count": 13,
   "metadata": {},
   "outputs": [
    {
     "data": {
      "text/plain": [
       "<matplotlib.axes._subplots.AxesSubplot at 0x17a4b08b0c8>"
      ]
     },
     "execution_count": 13,
     "metadata": {},
     "output_type": "execute_result"
    },
    {
     "data": {
      "image/png": "[encoded data removed]",
      "text/plain": [
       "<Figure size 720x720 with 1 Axes>"
      ]
     },
     "metadata": {},
     "output_type": "display_data"
    }
   ],
   "source": [
    "df['tld'].value_counts(normalize=True).plot.pie(legend=True, labels=None, figsize=(10,10))"
   ]
  },
  {
   "cell_type": "markdown",
   "metadata": {},
   "source": [
    "Was wir hier sehen ist, dass auf /r/news zum Zeitpunkt der Aufnahme Hauptsächlich auf Seiten mit `.com` verlinkt wird. Ein durchaus nennenswerter teil kommt auch aus `com.tw`, was mit den Protesten in Hong Kong zusammenhängen sollte."
   ]
  },
  {
   "cell_type": "markdown",
   "metadata": {},
   "source": [
    "***\n",
    "# Häufig Verlinkte URLs identifizieren"
   ]
  },
  {
   "cell_type": "markdown",
   "metadata": {},
   "source": [
    "Es macht auf /r/news nicht wirklich Sinn nach unique verlinkenden `from` Seiten zu suchen, da diese der Definition nach /r/news sind. Was man aber schauen kann, ist, welche Newsseiten populär `to`. Damit ließen sich tagesaktuelle Authorities identifizieren. Zusätzlich kann man schauen wie viele Seiten davon per http und per https angesprochen werden."
   ]
  },
  {
   "cell_type": "code",
   "execution_count": 42,
   "metadata": {},
   "outputs": [
    {
     "data": {
      "text/html": [
       "<div>\n",
       "<style scoped>\n",
       "    .dataframe tbody tr th:only-of-type {\n",
       "        vertical-align: middle;\n",
       "    }\n",
       "\n",
       "    .dataframe tbody tr th {\n",
       "        vertical-align: top;\n",
       "    }\n",
       "\n",
       "    .dataframe thead th {\n",
       "        text-align: right;\n",
       "    }\n",
       "</style>\n",
       "<table border=\"1\" class=\"dataframe\">\n",
       "  <thead>\n",
       "    <tr style=\"text-align: right;\">\n",
       "      <th></th>\n",
       "      <th>scheme</th>\n",
       "      <th>netloc</th>\n",
       "      <th>path</th>\n",
       "    </tr>\n",
       "  </thead>\n",
       "  <tbody>\n",
       "    <tr>\n",
       "      <td>0</td>\n",
       "      <td>https</td>\n",
       "      <td>www.cnbc.com</td>\n",
       "      <td>/2019/11/18/criminal-charges-expected-this-wee...</td>\n",
       "    </tr>\n",
       "    <tr>\n",
       "      <td>1</td>\n",
       "      <td>https</td>\n",
       "      <td>www.taiwannews.com.tw</td>\n",
       "      <td>/en/news/3819595</td>\n",
       "    </tr>\n",
       "    <tr>\n",
       "      <td>2</td>\n",
       "      <td>https</td>\n",
       "      <td>www.cnn.com</td>\n",
       "      <td>/2019/11/18/middleeast/iran-protests-explained...</td>\n",
       "    </tr>\n",
       "    <tr>\n",
       "      <td>3</td>\n",
       "      <td>https</td>\n",
       "      <td>www.cnbc.com</td>\n",
       "      <td>/2019/11/18/chick-fil-a-drops-donations-to-chr...</td>\n",
       "    </tr>\n",
       "    <tr>\n",
       "      <td>4</td>\n",
       "      <td>https</td>\n",
       "      <td>www.cbsnews.com</td>\n",
       "      <td>/video/jeffrey-epstein-accuser-describes-camer...</td>\n",
       "    </tr>\n",
       "  </tbody>\n",
       "</table>\n",
       "</div>"
      ],
      "text/plain": [
       "  scheme                 netloc  \\\n",
       "0  https           www.cnbc.com   \n",
       "1  https  www.taiwannews.com.tw   \n",
       "2  https            www.cnn.com   \n",
       "3  https           www.cnbc.com   \n",
       "4  https        www.cbsnews.com   \n",
       "\n",
       "                                                path  \n",
       "0  /2019/11/18/criminal-charges-expected-this-wee...  \n",
       "1                                   /en/news/3819595  \n",
       "2  /2019/11/18/middleeast/iran-protests-explained...  \n",
       "3  /2019/11/18/chick-fil-a-drops-donations-to-chr...  \n",
       "4  /video/jeffrey-epstein-accuser-describes-camer...  "
      ]
     },
     "execution_count": 42,
     "metadata": {},
     "output_type": "execute_result"
    }
   ],
   "source": [
    "from urllib.parse import urlsplit\n",
    "df_urlsplit = df['to'].map(urlsplit)\n",
    "df_urls = pd.DataFrame(df_urlsplit.tolist(), index=df_urlsplit.index)\n",
    "df_urls = df_urls[['scheme', 'netloc', 'path']]\n",
    "df_urls.head()"
   ]
  },
  {
   "cell_type": "markdown",
   "metadata": {},
   "source": [
    "Wir erhalten damit ein Dataframe, das unserem Vorhaben entspricht."
   ]
  },
  {
   "cell_type": "code",
   "execution_count": 49,
   "metadata": {},
   "outputs": [
    {
     "data": {
      "text/plain": [
       "<matplotlib.axes._subplots.AxesSubplot at 0x17a4b499908>"
      ]
     },
     "execution_count": 49,
     "metadata": {},
     "output_type": "execute_result"
    },
    {
     "data": {
      "image/png": "[encoded data removed]",
      "text/plain": [
       "<Figure size 720x720 with 1 Axes>"
      ]
     },
     "metadata": {},
     "output_type": "display_data"
    }
   ],
   "source": [
    "df_scheme = df_urls.groupby('scheme').count()['netloc']\n",
    "df_scheme.plot.pie(legend=True, labels=None, figsize=(10,10), autopct='%1.1f%%')"
   ]
  },
  {
   "cell_type": "markdown",
   "metadata": {},
   "source": [
    "Wir sehen, dass fast alle Links verschlüsselt sind und der unverschlüsselte Anteil bei 3% liegt."
   ]
  },
  {
   "cell_type": "code",
   "execution_count": 96,
   "metadata": {},
   "outputs": [
    {
     "data": {
      "text/plain": [
       "<matplotlib.axes._subplots.AxesSubplot at 0x17a4bfa9148>"
      ]
     },
     "execution_count": 96,
     "metadata": {},
     "output_type": "execute_result"
    },
    {
     "data": {
      "image/png": "[encoded data removed]",
      "text/plain": [
       "<Figure size 720x720 with 1 Axes>"
      ]
     },
     "metadata": {
      "needs_background": "light"
     },
     "output_type": "display_data"
    }
   ],
   "source": [
    "#counts = pd.value_counts(df_urls['netloc'].values)#\n",
    "df_counts = pd.DataFrame(data=counts, columns = ['count'])\n",
    "coounts = df_urls['netloc'].value_counts()\n",
    "df_auths = df_urls[df_urls['netloc'].isin(counts[counts > 3].index)]\n",
    "df_auths['netloc'].value_counts().plot(kind='bar', figsize=(10,10))"
   ]
  },
  {
   "cell_type": "markdown",
   "metadata": {},
   "source": [
    "Wir filtern nach Newsseiten, die öfter als 3 mal genannt werden (auf 100 Links) und erhalten, dass abcnews, reuters, theguardian und foxnews die am häufigsten referenzierten Seiten sind."
   ]
  },
  {
   "cell_type": "code",
   "execution_count": null,
   "metadata": {},
   "outputs": [],
   "source": []
  }
 ],
 "metadata": {
  "kernelspec": {
   "display_name": "Python 3",
   "language": "python",
   "name": "python3"
  },
  "language_info": {
   "codemirror_mode": {
    "name": "ipython",
    "version": 3
   },
   "file_extension": ".py",
   "mimetype": "text/x-python",
   "name": "python",
   "nbconvert_exporter": "python",
   "pygments_lexer": "ipython3",
   "version": "3.7.4"
  }
 },
 "nbformat": 4,
 "nbformat_minor": 2
}
