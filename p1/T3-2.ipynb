{
 "cells": [
  {
   "cell_type": "code",
   "execution_count": 17,
   "metadata": {},
   "outputs": [],
   "source": [
    "import pandas as pd\n",
    "from tld import get_tld\n",
    "import matplotlib.pyplot as plt\n",
    "from wordcloud import WordCloud, STOPWORDS, ImageColorGenerator\n",
    "%matplotlib inline"
   ]
  },
  {
   "cell_type": "markdown",
   "metadata": {},
   "source": [
    "# Importing csv"
   ]
  },
  {
   "cell_type": "code",
   "execution_count": 18,
   "metadata": {},
   "outputs": [],
   "source": [
    "df = pd.read_csv (r'DarmstadtSpider.csv')"
   ]
  },
  {
   "cell_type": "code",
   "execution_count": 19,
   "metadata": {},
   "outputs": [
    {
     "data": {
      "text/html": [
       "<div>\n",
       "<style scoped>\n",
       "    .dataframe tbody tr th:only-of-type {\n",
       "        vertical-align: middle;\n",
       "    }\n",
       "\n",
       "    .dataframe tbody tr th {\n",
       "        vertical-align: top;\n",
       "    }\n",
       "\n",
       "    .dataframe thead th {\n",
       "        text-align: right;\n",
       "    }\n",
       "</style>\n",
       "<table border=\"1\" class=\"dataframe\">\n",
       "  <thead>\n",
       "    <tr style=\"text-align: right;\">\n",
       "      <th></th>\n",
       "      <th>from</th>\n",
       "      <th>url</th>\n",
       "      <th>text</th>\n",
       "    </tr>\n",
       "  </thead>\n",
       "  <tbody>\n",
       "    <tr>\n",
       "      <th>0</th>\n",
       "      <td>https://www.darmstadt.de/leben-in-darmstadt/</td>\n",
       "      <td>http://www.iv-senioren-darmstadt.de/home.html</td>\n",
       "      <td>Interessenvertretung</td>\n",
       "    </tr>\n",
       "    <tr>\n",
       "      <th>1</th>\n",
       "      <td>https://www.darmstadt.de/leben-in-darmstadt/</td>\n",
       "      <td>http://www.darmstadt-stadtlexikon.de</td>\n",
       "      <td>Stadtlexikon</td>\n",
       "    </tr>\n",
       "    <tr>\n",
       "      <th>2</th>\n",
       "      <td>https://www.darmstadt.de/leben-in-darmstadt/</td>\n",
       "      <td>http://www.unserebroschuere.de/Stadt_Darmstadt...</td>\n",
       "      <td>Deutsch / Englisch</td>\n",
       "    </tr>\n",
       "    <tr>\n",
       "      <th>3</th>\n",
       "      <td>https://www.darmstadt.de/leben-in-darmstadt/</td>\n",
       "      <td>http://www.unserebroschuere.de/Stadt_Darmstadt...</td>\n",
       "      <td>Französisch / Spanisch</td>\n",
       "    </tr>\n",
       "    <tr>\n",
       "      <th>4</th>\n",
       "      <td>https://www.darmstadt.de/leben-in-darmstadt/</td>\n",
       "      <td>http://www.unserebroschuere.de/Stadt_Darmstadt...</td>\n",
       "      <td>Türkisch Arabisch</td>\n",
       "    </tr>\n",
       "  </tbody>\n",
       "</table>\n",
       "</div>"
      ],
      "text/plain": [
       "                                           from  \\\n",
       "0  https://www.darmstadt.de/leben-in-darmstadt/   \n",
       "1  https://www.darmstadt.de/leben-in-darmstadt/   \n",
       "2  https://www.darmstadt.de/leben-in-darmstadt/   \n",
       "3  https://www.darmstadt.de/leben-in-darmstadt/   \n",
       "4  https://www.darmstadt.de/leben-in-darmstadt/   \n",
       "\n",
       "                                                 url                    text  \n",
       "0      http://www.iv-senioren-darmstadt.de/home.html    Interessenvertretung  \n",
       "1               http://www.darmstadt-stadtlexikon.de            Stadtlexikon  \n",
       "2  http://www.unserebroschuere.de/Stadt_Darmstadt...      Deutsch / Englisch  \n",
       "3  http://www.unserebroschuere.de/Stadt_Darmstadt...  Französisch / Spanisch  \n",
       "4  http://www.unserebroschuere.de/Stadt_Darmstadt...       Türkisch Arabisch  "
      ]
     },
     "execution_count": 19,
     "metadata": {},
     "output_type": "execute_result"
    }
   ],
   "source": [
    "df.head()"
   ]
  },
  {
   "cell_type": "code",
   "execution_count": 20,
   "metadata": {},
   "outputs": [
    {
     "name": "stdout",
     "output_type": "stream",
     "text": [
      "<class 'pandas.core.frame.DataFrame'>\n",
      "RangeIndex: 11120 entries, 0 to 11119\n",
      "Data columns (total 3 columns):\n",
      "from    11120 non-null object\n",
      "url     11120 non-null object\n",
      "text    10737 non-null object\n",
      "dtypes: object(3)\n",
      "memory usage: 260.8+ KB\n"
     ]
    }
   ],
   "source": [
    "df.info()"
   ]
  },
  {
   "cell_type": "markdown",
   "metadata": {},
   "source": [
    "# Erweitern um die TLDs"
   ]
  },
  {
   "cell_type": "code",
   "execution_count": 21,
   "metadata": {
    "scrolled": true
   },
   "outputs": [],
   "source": [
    "l = []\n",
    "for e in df['url']:\n",
    "    l.append(get_tld(e, fail_silently=True))\n",
    "df['tld'] = l"
   ]
  },
  {
   "cell_type": "code",
   "execution_count": 22,
   "metadata": {
    "scrolled": true
   },
   "outputs": [
    {
     "data": {
      "text/html": [
       "<div>\n",
       "<style scoped>\n",
       "    .dataframe tbody tr th:only-of-type {\n",
       "        vertical-align: middle;\n",
       "    }\n",
       "\n",
       "    .dataframe tbody tr th {\n",
       "        vertical-align: top;\n",
       "    }\n",
       "\n",
       "    .dataframe thead th {\n",
       "        text-align: right;\n",
       "    }\n",
       "</style>\n",
       "<table border=\"1\" class=\"dataframe\">\n",
       "  <thead>\n",
       "    <tr style=\"text-align: right;\">\n",
       "      <th></th>\n",
       "      <th>from</th>\n",
       "      <th>url</th>\n",
       "      <th>text</th>\n",
       "      <th>tld</th>\n",
       "    </tr>\n",
       "  </thead>\n",
       "  <tbody>\n",
       "    <tr>\n",
       "      <th>0</th>\n",
       "      <td>https://www.darmstadt.de/leben-in-darmstadt/</td>\n",
       "      <td>http://www.iv-senioren-darmstadt.de/home.html</td>\n",
       "      <td>Interessenvertretung</td>\n",
       "      <td>de</td>\n",
       "    </tr>\n",
       "    <tr>\n",
       "      <th>1</th>\n",
       "      <td>https://www.darmstadt.de/leben-in-darmstadt/</td>\n",
       "      <td>http://www.darmstadt-stadtlexikon.de</td>\n",
       "      <td>Stadtlexikon</td>\n",
       "      <td>de</td>\n",
       "    </tr>\n",
       "    <tr>\n",
       "      <th>2</th>\n",
       "      <td>https://www.darmstadt.de/leben-in-darmstadt/</td>\n",
       "      <td>http://www.unserebroschuere.de/Stadt_Darmstadt...</td>\n",
       "      <td>Deutsch / Englisch</td>\n",
       "      <td>de</td>\n",
       "    </tr>\n",
       "    <tr>\n",
       "      <th>3</th>\n",
       "      <td>https://www.darmstadt.de/leben-in-darmstadt/</td>\n",
       "      <td>http://www.unserebroschuere.de/Stadt_Darmstadt...</td>\n",
       "      <td>Französisch / Spanisch</td>\n",
       "      <td>de</td>\n",
       "    </tr>\n",
       "    <tr>\n",
       "      <th>4</th>\n",
       "      <td>https://www.darmstadt.de/leben-in-darmstadt/</td>\n",
       "      <td>http://www.unserebroschuere.de/Stadt_Darmstadt...</td>\n",
       "      <td>Türkisch Arabisch</td>\n",
       "      <td>de</td>\n",
       "    </tr>\n",
       "  </tbody>\n",
       "</table>\n",
       "</div>"
      ],
      "text/plain": [
       "                                           from  \\\n",
       "0  https://www.darmstadt.de/leben-in-darmstadt/   \n",
       "1  https://www.darmstadt.de/leben-in-darmstadt/   \n",
       "2  https://www.darmstadt.de/leben-in-darmstadt/   \n",
       "3  https://www.darmstadt.de/leben-in-darmstadt/   \n",
       "4  https://www.darmstadt.de/leben-in-darmstadt/   \n",
       "\n",
       "                                                 url                    text  \\\n",
       "0      http://www.iv-senioren-darmstadt.de/home.html    Interessenvertretung   \n",
       "1               http://www.darmstadt-stadtlexikon.de            Stadtlexikon   \n",
       "2  http://www.unserebroschuere.de/Stadt_Darmstadt...      Deutsch / Englisch   \n",
       "3  http://www.unserebroschuere.de/Stadt_Darmstadt...  Französisch / Spanisch   \n",
       "4  http://www.unserebroschuere.de/Stadt_Darmstadt...       Türkisch Arabisch   \n",
       "\n",
       "  tld  \n",
       "0  de  \n",
       "1  de  \n",
       "2  de  \n",
       "3  de  \n",
       "4  de  "
      ]
     },
     "execution_count": 22,
     "metadata": {},
     "output_type": "execute_result"
    }
   ],
   "source": [
    "df.head()"
   ]
  },
  {
   "cell_type": "markdown",
   "metadata": {},
   "source": [
    "***\n",
    "# Einfach Auswertung zu den TLDs"
   ]
  },
  {
   "cell_type": "markdown",
   "metadata": {},
   "source": [
    "Aufsummierung der tlds aus dem Feld 'url'"
   ]
  },
  {
   "cell_type": "code",
   "execution_count": 23,
   "metadata": {
    "scrolled": true
   },
   "outputs": [
    {
     "data": {
      "text/plain": [
       "de      8806\n",
       "com     1796\n",
       "org      259\n",
       "net      107\n",
       "eu        37\n",
       "info      35\n",
       "be        21\n",
       "in         9\n",
       "ch         7\n",
       "gov        7\n",
       "ag         7\n",
       "Name: tld, dtype: int64"
      ]
     },
     "execution_count": 23,
     "metadata": {},
     "output_type": "execute_result"
    }
   ],
   "source": [
    "df['tld'].value_counts()"
   ]
  },
  {
   "cell_type": "markdown",
   "metadata": {},
   "source": [
    "Erzeugen einer grafischen Darstellung"
   ]
  },
  {
   "cell_type": "code",
   "execution_count": 35,
   "metadata": {
    "scrolled": false
   },
   "outputs": [
    {
     "data": {
      "text/plain": [
       "<matplotlib.axes._subplots.AxesSubplot at 0x11f5fa860>"
      ]
     },
     "execution_count": 35,
     "metadata": {},
     "output_type": "execute_result"
    },
    {
     "data": {
      "image/png": "[encoded data removed]",
      "text/plain": [
       "<Figure size 720x720 with 1 Axes>"
      ]
     },
     "metadata": {
      "needs_background": "light"
     },
     "output_type": "display_data"
    }
   ],
   "source": [
    "df['tld'].value_counts().plot(kind='bar', figsize=(10,10))"
   ]
  },
  {
   "cell_type": "markdown",
   "metadata": {},
   "source": [
    "Aufsummierung der tlds aus dem Feld 'url' und Berechnung des Anteils am Gesamten. Anschließend grafische Darstellung als Pie Chart."
   ]
  },
  {
   "cell_type": "code",
   "execution_count": 25,
   "metadata": {},
   "outputs": [
    {
     "data": {
      "text/plain": [
       "de      0.793977\n",
       "com     0.161933\n",
       "org     0.023352\n",
       "net     0.009647\n",
       "eu      0.003336\n",
       "info    0.003156\n",
       "be      0.001893\n",
       "in      0.000811\n",
       "ch      0.000631\n",
       "gov     0.000631\n",
       "ag      0.000631\n",
       "Name: tld, dtype: float64"
      ]
     },
     "execution_count": 25,
     "metadata": {},
     "output_type": "execute_result"
    }
   ],
   "source": [
    "df['tld'].value_counts(normalize=True)"
   ]
  },
  {
   "cell_type": "code",
   "execution_count": 36,
   "metadata": {},
   "outputs": [
    {
     "data": {
      "text/plain": [
       "<matplotlib.axes._subplots.AxesSubplot at 0x11f5e9550>"
      ]
     },
     "execution_count": 36,
     "metadata": {},
     "output_type": "execute_result"
    },
    {
     "data": {
      "image/png": "[encoded data removed]",
      "text/plain": [
       "<Figure size 720x720 with 1 Axes>"
      ]
     },
     "metadata": {},
     "output_type": "display_data"
    }
   ],
   "source": [
    "df['tld'].value_counts(normalize=True).plot.pie(legend=True, labels=None, figsize=(10,10))"
   ]
  },
  {
   "cell_type": "markdown",
   "metadata": {},
   "source": [
    "***\n",
    "# Häufig Verlinkte URLs identifizieren"
   ]
  },
  {
   "cell_type": "markdown",
   "metadata": {},
   "source": [
    "Zusammenfassen der gleichen URLs und Zählen von dessen Vorkommen."
   ]
  },
  {
   "cell_type": "code",
   "execution_count": 27,
   "metadata": {},
   "outputs": [
    {
     "data": {
      "text/plain": [
       "http://www.darmstadt-stadtlexikon.de                                                                                      1662\n",
       "http://www.iv-senioren-darmstadt.de/home.html                                                                             1659\n",
       "https://app-eu.readspeaker.com/cgi-bin/rsent?customerid=9630&lang=de_de&readclass=content&url=                            1659\n",
       "http://www.ladadi.de/bildung-schule/bildungsbuero-schulentwicklung/bildungsregion-darmstadt-und-darmstadt-dieburg.html      98\n",
       "https://www.klimaschutz.de/                                                                                                 63\n",
       "Name: url, dtype: int64"
      ]
     },
     "execution_count": 27,
     "metadata": {},
     "output_type": "execute_result"
    }
   ],
   "source": [
    "dfurl_counts = df['url'].value_counts()\n",
    "dfurl_counts.head()"
   ]
  },
  {
   "cell_type": "markdown",
   "metadata": {},
   "source": [
    "Es fällt auf, dass es 3 Seiten gibt auf die besonders häufig verwiesen wird:\n",
    "- Stadtlexikon\n",
    "- IV Senioren Darmstadt\n",
    "- Readspeaker\n",
    "\n",
    "Je nach Anwendungsfall können diese Seiten uninteressant sein, dann müsste man diese entfernen. Der genaue Anwendungsfall ist hier aber nicht bekannt."
   ]
  },
  {
   "cell_type": "markdown",
   "metadata": {},
   "source": [
    "Überführen der verlinkenden Seiten in Listen speziell für die 3 Seiten mit den größten Vorkommen."
   ]
  },
  {
   "cell_type": "code",
   "execution_count": 28,
   "metadata": {},
   "outputs": [],
   "source": [
    "dfurl_grouped = df.groupby('url')"
   ]
  },
  {
   "cell_type": "code",
   "execution_count": 29,
   "metadata": {},
   "outputs": [],
   "source": [
    "df_lexicon_referrers = dfurl_grouped.get_group('http://www.darmstadt-stadtlexikon.de').reset_index()\n",
    "df_iv_referrers = dfurl_grouped.get_group('http://www.iv-senioren-darmstadt.de/home.html').reset_index()\n",
    "df_readspeaker_referrers = dfurl_grouped.get_group('https://app-eu.readspeaker.com/cgi-bin/rsent?customerid=9630&lang=de_de&readclass=content&url=').reset_index()"
   ]
  },
  {
   "cell_type": "markdown",
   "metadata": {},
   "source": [
    "Testweise Ausgabe einer entstandenen Liste bzw. eines einzelnen Werts"
   ]
  },
  {
   "cell_type": "code",
   "execution_count": 30,
   "metadata": {},
   "outputs": [
    {
     "data": {
      "text/html": [
       "<div>\n",
       "<style scoped>\n",
       "    .dataframe tbody tr th:only-of-type {\n",
       "        vertical-align: middle;\n",
       "    }\n",
       "\n",
       "    .dataframe tbody tr th {\n",
       "        vertical-align: top;\n",
       "    }\n",
       "\n",
       "    .dataframe thead th {\n",
       "        text-align: right;\n",
       "    }\n",
       "</style>\n",
       "<table border=\"1\" class=\"dataframe\">\n",
       "  <thead>\n",
       "    <tr style=\"text-align: right;\">\n",
       "      <th></th>\n",
       "      <th>index</th>\n",
       "      <th>from</th>\n",
       "      <th>url</th>\n",
       "      <th>text</th>\n",
       "      <th>tld</th>\n",
       "    </tr>\n",
       "  </thead>\n",
       "  <tbody>\n",
       "    <tr>\n",
       "      <th>0</th>\n",
       "      <td>1</td>\n",
       "      <td>https://www.darmstadt.de/leben-in-darmstadt/</td>\n",
       "      <td>http://www.darmstadt-stadtlexikon.de</td>\n",
       "      <td>Stadtlexikon</td>\n",
       "      <td>de</td>\n",
       "    </tr>\n",
       "    <tr>\n",
       "      <th>1</th>\n",
       "      <td>7</td>\n",
       "      <td>https://www.darmstadt.de/leben-in-darmstadt/so...</td>\n",
       "      <td>http://www.darmstadt-stadtlexikon.de</td>\n",
       "      <td>Stadtlexikon</td>\n",
       "      <td>de</td>\n",
       "    </tr>\n",
       "    <tr>\n",
       "      <th>2</th>\n",
       "      <td>19</td>\n",
       "      <td>https://www.darmstadt.de/leben-in-darmstadt/so...</td>\n",
       "      <td>http://www.darmstadt-stadtlexikon.de</td>\n",
       "      <td>Stadtlexikon</td>\n",
       "      <td>de</td>\n",
       "    </tr>\n",
       "    <tr>\n",
       "      <th>3</th>\n",
       "      <td>36</td>\n",
       "      <td>https://www.darmstadt.de/leben-in-darmstadt/so...</td>\n",
       "      <td>http://www.darmstadt-stadtlexikon.de</td>\n",
       "      <td>Stadtlexikon</td>\n",
       "      <td>de</td>\n",
       "    </tr>\n",
       "    <tr>\n",
       "      <th>4</th>\n",
       "      <td>40</td>\n",
       "      <td>https://www.darmstadt.de/leben-in-darmstadt/so...</td>\n",
       "      <td>http://www.darmstadt-stadtlexikon.de</td>\n",
       "      <td>Stadtlexikon</td>\n",
       "      <td>de</td>\n",
       "    </tr>\n",
       "    <tr>\n",
       "      <th>...</th>\n",
       "      <td>...</td>\n",
       "      <td>...</td>\n",
       "      <td>...</td>\n",
       "      <td>...</td>\n",
       "      <td>...</td>\n",
       "    </tr>\n",
       "    <tr>\n",
       "      <th>1657</th>\n",
       "      <td>11010</td>\n",
       "      <td>https://www.darmstadt.de/leben-in-darmstadt/bi...</td>\n",
       "      <td>http://www.darmstadt-stadtlexikon.de</td>\n",
       "      <td>Stadtlexikon</td>\n",
       "      <td>de</td>\n",
       "    </tr>\n",
       "    <tr>\n",
       "      <th>1658</th>\n",
       "      <td>11021</td>\n",
       "      <td>https://www.darmstadt.de/leben-in-darmstadt/bi...</td>\n",
       "      <td>http://www.darmstadt-stadtlexikon.de</td>\n",
       "      <td>http://www.darmstadt-stadtlexikon.de</td>\n",
       "      <td>de</td>\n",
       "    </tr>\n",
       "    <tr>\n",
       "      <th>1659</th>\n",
       "      <td>11050</td>\n",
       "      <td>https://www.darmstadt.de/leben-in-darmstadt/bi...</td>\n",
       "      <td>http://www.darmstadt-stadtlexikon.de</td>\n",
       "      <td>Stadtlexikon</td>\n",
       "      <td>de</td>\n",
       "    </tr>\n",
       "    <tr>\n",
       "      <th>1660</th>\n",
       "      <td>11095</td>\n",
       "      <td>https://www.darmstadt.de/leben-in-darmstadt/bi...</td>\n",
       "      <td>http://www.darmstadt-stadtlexikon.de</td>\n",
       "      <td>Stadtlexikon</td>\n",
       "      <td>de</td>\n",
       "    </tr>\n",
       "    <tr>\n",
       "      <th>1661</th>\n",
       "      <td>11108</td>\n",
       "      <td>https://www.darmstadt.de/leben-in-darmstadt/bi...</td>\n",
       "      <td>http://www.darmstadt-stadtlexikon.de</td>\n",
       "      <td>Stadtlexikon</td>\n",
       "      <td>de</td>\n",
       "    </tr>\n",
       "  </tbody>\n",
       "</table>\n",
       "<p>1662 rows × 5 columns</p>\n",
       "</div>"
      ],
      "text/plain": [
       "      index                                               from  \\\n",
       "0         1       https://www.darmstadt.de/leben-in-darmstadt/   \n",
       "1         7  https://www.darmstadt.de/leben-in-darmstadt/so...   \n",
       "2        19  https://www.darmstadt.de/leben-in-darmstadt/so...   \n",
       "3        36  https://www.darmstadt.de/leben-in-darmstadt/so...   \n",
       "4        40  https://www.darmstadt.de/leben-in-darmstadt/so...   \n",
       "...     ...                                                ...   \n",
       "1657  11010  https://www.darmstadt.de/leben-in-darmstadt/bi...   \n",
       "1658  11021  https://www.darmstadt.de/leben-in-darmstadt/bi...   \n",
       "1659  11050  https://www.darmstadt.de/leben-in-darmstadt/bi...   \n",
       "1660  11095  https://www.darmstadt.de/leben-in-darmstadt/bi...   \n",
       "1661  11108  https://www.darmstadt.de/leben-in-darmstadt/bi...   \n",
       "\n",
       "                                       url  \\\n",
       "0     http://www.darmstadt-stadtlexikon.de   \n",
       "1     http://www.darmstadt-stadtlexikon.de   \n",
       "2     http://www.darmstadt-stadtlexikon.de   \n",
       "3     http://www.darmstadt-stadtlexikon.de   \n",
       "4     http://www.darmstadt-stadtlexikon.de   \n",
       "...                                    ...   \n",
       "1657  http://www.darmstadt-stadtlexikon.de   \n",
       "1658  http://www.darmstadt-stadtlexikon.de   \n",
       "1659  http://www.darmstadt-stadtlexikon.de   \n",
       "1660  http://www.darmstadt-stadtlexikon.de   \n",
       "1661  http://www.darmstadt-stadtlexikon.de   \n",
       "\n",
       "                                      text tld  \n",
       "0                             Stadtlexikon  de  \n",
       "1                             Stadtlexikon  de  \n",
       "2                             Stadtlexikon  de  \n",
       "3                             Stadtlexikon  de  \n",
       "4                             Stadtlexikon  de  \n",
       "...                                    ...  ..  \n",
       "1657                          Stadtlexikon  de  \n",
       "1658  http://www.darmstadt-stadtlexikon.de  de  \n",
       "1659                          Stadtlexikon  de  \n",
       "1660                          Stadtlexikon  de  \n",
       "1661                          Stadtlexikon  de  \n",
       "\n",
       "[1662 rows x 5 columns]"
      ]
     },
     "execution_count": 30,
     "metadata": {},
     "output_type": "execute_result"
    }
   ],
   "source": [
    "df_lexicon_referrers"
   ]
  },
  {
   "cell_type": "code",
   "execution_count": 31,
   "metadata": {},
   "outputs": [
    {
     "data": {
      "text/plain": [
       "'https://www.darmstadt.de/leben-in-darmstadt/'"
      ]
     },
     "execution_count": 31,
     "metadata": {},
     "output_type": "execute_result"
    }
   ],
   "source": [
    "df_lexicon_referrers['from'][0]"
   ]
  },
  {
   "cell_type": "markdown",
   "metadata": {},
   "source": [
    "Es handelt sich um ein Link, der in nahezu jeder Unterseite der Seite www.darmstadt.de/leben-in-darmstadt/ vorhanden ist. Er befindet sich im DropDown Menü \"Oft Gesucht\".\n",
    "***"
   ]
  },
  {
   "cell_type": "markdown",
   "metadata": {},
   "source": [
    "Gleiches gilt für die Verlinkung zur Seniorenvertretung. Dieser Link befindet sich ebenfalls im DropDown Menü 'Oft gesucht'. Ein anderer Fall ist die Verlinkung zu Readspeaker. Es handelt sich hierbei um eine Text to Speech Lösung. Diese befindet sich ebenfalls als Button auf vielen Seiten und ermöglicht das Vorlesen der Webseite."
   ]
  },
  {
   "cell_type": "code",
   "execution_count": 16,
   "metadata": {},
   "outputs": [
    {
     "data": {
      "text/plain": [
       "http://www.ladadi.de/bildung-schule/bildungsbuero-schulentwicklung/bildungsregion-darmstadt-und-darmstadt-dieburg.html         98\n",
       "https://www.klimaschutz.de/                                                                                                    63\n",
       "http://www.rmv.de/auskunft/                                                                                                    42\n",
       "http://www.onleihe.de/darmstadt/frontend/welcome,51-0-0-100-0-0-1-0-0-0-0.html                                                 35\n",
       "https://arcinsys.hessen.de/arcinsys/llist?nodeid=g105233&page=1&reload=true&sorting=41                                         35\n",
       "https://www.munzinger.de/search/login-portal.jsp?portalid=50700                                                                35\n",
       "http://www.cityguide-darmstadt.de/stadtatlas/cgi-bin/cityguide.pl?action=show&lang=de&size=8660&mapper=1&zoom=50&group=34.1    32\n",
       "http://www.familien-willkommen.de/                                                                                             30\n",
       "https://bib-darmstadt.genios.de/dosearch                                                                                       28\n",
       "https://www.munzinger.de/search/login?portalid=50700                                                                           23\n",
       "http://www.femkom.de/                                                                                                          21\n",
       "http://www.familien-willkommen.de                                                                                              21\n",
       "http://www.bibliothekenrheinmain.de/                                                                                           21\n",
       "http://www.rmv.de/                                                                                                             21\n",
       "http://www.antolin.de/                                                                                                         21\n",
       "https://pica1l.ulb.tu-darmstadt.de/IMPLAND=Y/SRT=YOP/LNG=DU/DB=HSTAD/                                                          21\n",
       "http://www.dablog.hypotheses.org                                                                                               21\n",
       "Name: url, dtype: int64"
      ]
     },
     "execution_count": 16,
     "metadata": {},
     "output_type": "execute_result"
    }
   ],
   "source": [
    "dfurl_counts[3:20]"
   ]
  },
  {
   "cell_type": "markdown",
   "metadata": {},
   "source": [
    "Weitere häufige Themen sind im Spektrum Bildung, Familie, Archiv und Umwelt angesiedelt.\n",
    "***"
   ]
  },
  {
   "cell_type": "markdown",
   "metadata": {},
   "source": [
    "Zusätzliche Statistik:\n",
    "Wie hoch ist der Anteil der referenzierten URLs die eine sichere Verbindung nutzen?"
   ]
  },
  {
   "cell_type": "code",
   "execution_count": 60,
   "metadata": {},
   "outputs": [],
   "source": [
    "unique_url = df['url'].drop_duplicates()"
   ]
  },
  {
   "cell_type": "code",
   "execution_count": 69,
   "metadata": {},
   "outputs": [],
   "source": [
    "l = []\n",
    "for e in unique_url:\n",
    "    tld = get_tld(e, fail_silently=True, as_object=True)\n",
    "    if tld != None:\n",
    "        l.append(tld.parsed_url.scheme)"
   ]
  },
  {
   "cell_type": "code",
   "execution_count": 97,
   "metadata": {},
   "outputs": [
    {
     "name": "stdout",
     "output_type": "stream",
     "text": [
      "<class 'pandas.core.frame.DataFrame'>\n",
      "RangeIndex: 791 entries, 0 to 790\n",
      "Data columns (total 1 columns):\n",
      "encrypted    791 non-null object\n",
      "dtypes: object(1)\n",
      "memory usage: 6.3+ KB\n"
     ]
    }
   ],
   "source": [
    "schemes = pd.DataFrame(l, columns=['encrypted'])\n",
    "schemes.info()"
   ]
  },
  {
   "cell_type": "code",
   "execution_count": 103,
   "metadata": {},
   "outputs": [
    {
     "data": {
      "text/plain": [
       "http     0.738306\n",
       "https    0.261694\n",
       "Name: encrypted, dtype: float64"
      ]
     },
     "execution_count": 103,
     "metadata": {},
     "output_type": "execute_result"
    }
   ],
   "source": [
    "schemes['encrypted'].value_counts(normalize=True)"
   ]
  },
  {
   "cell_type": "code",
   "execution_count": 104,
   "metadata": {},
   "outputs": [
    {
     "data": {
      "text/plain": [
       "<matplotlib.axes._subplots.AxesSubplot at 0x11f5d5cf8>"
      ]
     },
     "execution_count": 104,
     "metadata": {},
     "output_type": "execute_result"
    },
    {
     "data": {
      "image/png": "[encoded data removed]",
      "text/plain": [
       "<Figure size 720x720 with 1 Axes>"
      ]
     },
     "metadata": {},
     "output_type": "display_data"
    }
   ],
   "source": [
    "schemes['encrypted'].value_counts(normalize=True).plot.pie(legend=True, labels=None, figsize=(10,10), autopct='%1.1f%%')"
   ]
  },
  {
   "cell_type": "markdown",
   "metadata": {},
   "source": [
    "Die Verbindung zu den Seiten ist nur in etwa ein Viertel der Fälle verschlüsselt."
   ]
  },
  {
   "cell_type": "code",
   "execution_count": null,
   "metadata": {},
   "outputs": [],
   "source": []
  }
 ],
 "metadata": {
  "kernelspec": {
   "display_name": "Python 3",
   "language": "python",
   "name": "python3"
  },
  "language_info": {
   "codemirror_mode": {
    "name": "ipython",
    "version": 3
   },
   "file_extension": ".py",
   "mimetype": "text/x-python",
   "name": "python",
   "nbconvert_exporter": "python",
   "pygments_lexer": "ipython3",
   "version": "3.7.3"
  }
 },
 "nbformat": 4,
 "nbformat_minor": 2
}
